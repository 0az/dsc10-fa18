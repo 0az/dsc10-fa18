{
 "cells": [
  {
   "cell_type": "code",
   "execution_count": 6,
   "metadata": {},
   "outputs": [],
   "source": [
    "from datascience import *\n",
    "import numpy as np\n",
    "%matplotlib inline"
   ]
  },
  {
   "cell_type": "markdown",
   "metadata": {},
   "source": [
    "# Getting the data\n",
    "---\n",
    "\n",
    "This data was compiled from a number of queries from the NOAA (National Oceanic and Atmospheric Administration) website.\n",
    "\n",
    "NOAA National Centers for Environmental information, Climate at a Glance: Regional Time Series, published October 2018, retrieved on October 18, 2018 from https://www.ncdc.noaa.gov/cag/"
   ]
  },
  {
   "cell_type": "code",
   "execution_count": 7,
   "metadata": {},
   "outputs": [
    {
     "data": {
      "text/html": [
       "<table border=\"1\" class=\"dataframe\">\n",
       "    <thead>\n",
       "        <tr>\n",
       "            <th>Year</th> <th>Month</th> <th>Region</th> <th>Average Temperature</th>\n",
       "        </tr>\n",
       "    </thead>\n",
       "    <tbody>\n",
       "        <tr>\n",
       "            <td>2000</td> <td>1    </td> <td>Northeast Climate Region</td> <td>21.4               </td>\n",
       "        </tr>\n",
       "    </tbody>\n",
       "        <tr>\n",
       "            <td>2000</td> <td>2    </td> <td>Northeast Climate Region</td> <td>27.2               </td>\n",
       "        </tr>\n",
       "    </tbody>\n",
       "        <tr>\n",
       "            <td>2000</td> <td>3    </td> <td>Northeast Climate Region</td> <td>39.1               </td>\n",
       "        </tr>\n",
       "    </tbody>\n",
       "        <tr>\n",
       "            <td>2000</td> <td>4    </td> <td>Northeast Climate Region</td> <td>44.2               </td>\n",
       "        </tr>\n",
       "    </tbody>\n",
       "        <tr>\n",
       "            <td>2000</td> <td>5    </td> <td>Northeast Climate Region</td> <td>56.6               </td>\n",
       "        </tr>\n",
       "    </tbody>\n",
       "        <tr>\n",
       "            <td>2000</td> <td>6    </td> <td>Northeast Climate Region</td> <td>64.5               </td>\n",
       "        </tr>\n",
       "    </tbody>\n",
       "        <tr>\n",
       "            <td>2000</td> <td>7    </td> <td>Northeast Climate Region</td> <td>65.8               </td>\n",
       "        </tr>\n",
       "    </tbody>\n",
       "        <tr>\n",
       "            <td>2000</td> <td>8    </td> <td>Northeast Climate Region</td> <td>66.2               </td>\n",
       "        </tr>\n",
       "    </tbody>\n",
       "        <tr>\n",
       "            <td>2000</td> <td>9    </td> <td>Northeast Climate Region</td> <td>58.9               </td>\n",
       "        </tr>\n",
       "    </tbody>\n",
       "        <tr>\n",
       "            <td>2000</td> <td>10   </td> <td>Northeast Climate Region</td> <td>49.5               </td>\n",
       "        </tr>\n",
       "    </tbody>\n",
       "</table>\n",
       "<p>... (2015 rows omitted)</p>"
      ],
      "text/plain": [
       "Year | Month | Region                   | Average Temperature\n",
       "2000 | 1     | Northeast Climate Region | 21.4\n",
       "2000 | 2     | Northeast Climate Region | 27.2\n",
       "2000 | 3     | Northeast Climate Region | 39.1\n",
       "2000 | 4     | Northeast Climate Region | 44.2\n",
       "2000 | 5     | Northeast Climate Region | 56.6\n",
       "2000 | 6     | Northeast Climate Region | 64.5\n",
       "2000 | 7     | Northeast Climate Region | 65.8\n",
       "2000 | 8     | Northeast Climate Region | 66.2\n",
       "2000 | 9     | Northeast Climate Region | 58.9\n",
       "2000 | 10    | Northeast Climate Region | 49.5\n",
       "... (2015 rows omitted)"
      ]
     },
     "execution_count": 7,
     "metadata": {},
     "output_type": "execute_result"
    }
   ],
   "source": [
    "temps = Table.read_table(\"temperatures.csv\")\n",
    "temps"
   ]
  },
  {
   "cell_type": "markdown",
   "metadata": {},
   "source": [
    "It contains a `Year` (2000 to 2018), `Month` (1 to 12), `Region` (a climate region), and `Average Temperature` (the average temperature for that year/month/region in degrees Farenheit)."
   ]
  },
  {
   "cell_type": "markdown",
   "metadata": {},
   "source": [
    "# Let's go over some basics of `where`, `group`, columns on this dataset\n",
    "---\n",
    "\n",
    "By getting familiar with our dataset, it should be easier for us to answer questions we have a bit later."
   ]
  },
  {
   "cell_type": "markdown",
   "metadata": {},
   "source": [
    "Recall the syntax of the following functions:\n",
    "\n",
    "`table.where ( column_label, are.predicate( value ) ) => copy of table with only rows satisfying condition`\n",
    "\n",
    "`table.group ( column_label, method ) => copy of table with only unique rows from column_label and values calculated by the method, default is count`\n",
    "\n",
    "`table.column ( column_label ) => an array of the column specified`\n",
    "\n",
    "`table.with_column ( column_label, array_values ) => copy of table with a new column named column_label and values from the array_values`"
   ]
  },
  {
   "cell_type": "code",
   "execution_count": null,
   "metadata": {},
   "outputs": [],
   "source": [
    "# If we need any more information, we can always use help\n",
    "help"
   ]
  },
  {
   "cell_type": "code",
   "execution_count": 8,
   "metadata": {},
   "outputs": [
    {
     "data": {
      "text/plain": [
       "array(['Northeast Climate Region',\n",
       "       'Northern Rockies and Plains Climate Region',\n",
       "       'Northwest Climate Region', 'Ohio Valley Climate Region',\n",
       "       'South Climate Region', 'Southeast Climate Region',\n",
       "       'Southwest Climate Region', 'Upper Midwest Climate Region',\n",
       "       'West Climate Region'], dtype='<U42')"
      ]
     },
     "execution_count": 8,
     "metadata": {},
     "output_type": "execute_result"
    }
   ],
   "source": [
    "# As a helping hand to get started, let's find out what regions we have\n",
    "np.unique(temps.column(\"Region\"))"
   ]
  },
  {
   "cell_type": "code",
   "execution_count": 9,
   "metadata": {},
   "outputs": [
    {
     "name": "stdout",
     "output_type": "stream",
     "text": [
      "Northeast Climate Region\n",
      "Northern Rockies and Plains Climate Region\n",
      "Northwest Climate Region\n",
      "Ohio Valley Climate Region\n",
      "South Climate Region\n",
      "Southeast Climate Region\n",
      "Southwest Climate Region\n",
      "Upper Midwest Climate Region\n",
      "West Climate Region\n"
     ]
    }
   ],
   "source": [
    "region_names = np.unique(temps.column(\"Region\"))\n",
    "for region in region_names:\n",
    "    print(region)"
   ]
  },
  {
   "cell_type": "markdown",
   "metadata": {},
   "source": [
    "# Play around with the dataset using `where`, `group`, etc\n",
    "---"
   ]
  },
  {
   "cell_type": "code",
   "execution_count": 12,
   "metadata": {},
   "outputs": [
    {
     "data": {
      "text/plain": [
       "array(['Northeast Climate Region',\n",
       "       'Northern Rockies and Plains Climate Region',\n",
       "       'Northwest Climate Region', 'Ohio Valley Climate Region',\n",
       "       'South Climate Region', 'Southeast Climate Region',\n",
       "       'Southwest Climate Region', 'Upper Midwest Climate Region',\n",
       "       'West Climate Region'], dtype='<U42')"
      ]
     },
     "execution_count": 12,
     "metadata": {},
     "output_type": "execute_result"
    }
   ],
   "source": [
    "region_names"
   ]
  },
  {
   "cell_type": "code",
   "execution_count": 13,
   "metadata": {},
   "outputs": [
    {
     "data": {
      "text/html": [
       "<table border=\"1\" class=\"dataframe\">\n",
       "    <thead>\n",
       "        <tr>\n",
       "            <th>Year</th> <th>Month</th> <th>Region</th> <th>Average Temperature</th>\n",
       "        </tr>\n",
       "    </thead>\n",
       "    <tbody>\n",
       "        <tr>\n",
       "            <td>2000</td> <td>1    </td> <td>Ohio Valley Climate Region</td> <td>30.8               </td>\n",
       "        </tr>\n",
       "    </tbody>\n",
       "        <tr>\n",
       "            <td>2000</td> <td>2    </td> <td>Ohio Valley Climate Region</td> <td>40.1               </td>\n",
       "        </tr>\n",
       "    </tbody>\n",
       "        <tr>\n",
       "            <td>2000</td> <td>3    </td> <td>Ohio Valley Climate Region</td> <td>47.7               </td>\n",
       "        </tr>\n",
       "    </tbody>\n",
       "        <tr>\n",
       "            <td>2000</td> <td>4    </td> <td>Ohio Valley Climate Region</td> <td>52.6               </td>\n",
       "        </tr>\n",
       "    </tbody>\n",
       "        <tr>\n",
       "            <td>2000</td> <td>5    </td> <td>Ohio Valley Climate Region</td> <td>65.8               </td>\n",
       "        </tr>\n",
       "    </tbody>\n",
       "        <tr>\n",
       "            <td>2000</td> <td>6    </td> <td>Ohio Valley Climate Region</td> <td>71.3               </td>\n",
       "        </tr>\n",
       "    </tbody>\n",
       "        <tr>\n",
       "            <td>2000</td> <td>7    </td> <td>Ohio Valley Climate Region</td> <td>73.6               </td>\n",
       "        </tr>\n",
       "    </tbody>\n",
       "        <tr>\n",
       "            <td>2000</td> <td>8    </td> <td>Ohio Valley Climate Region</td> <td>74.7               </td>\n",
       "        </tr>\n",
       "    </tbody>\n",
       "        <tr>\n",
       "            <td>2000</td> <td>9    </td> <td>Ohio Valley Climate Region</td> <td>66.6               </td>\n",
       "        </tr>\n",
       "    </tbody>\n",
       "        <tr>\n",
       "            <td>2000</td> <td>10   </td> <td>Ohio Valley Climate Region</td> <td>58.5               </td>\n",
       "        </tr>\n",
       "    </tbody>\n",
       "</table>\n",
       "<p>... (215 rows omitted)</p>"
      ],
      "text/plain": [
       "Year | Month | Region                     | Average Temperature\n",
       "2000 | 1     | Ohio Valley Climate Region | 30.8\n",
       "2000 | 2     | Ohio Valley Climate Region | 40.1\n",
       "2000 | 3     | Ohio Valley Climate Region | 47.7\n",
       "2000 | 4     | Ohio Valley Climate Region | 52.6\n",
       "2000 | 5     | Ohio Valley Climate Region | 65.8\n",
       "2000 | 6     | Ohio Valley Climate Region | 71.3\n",
       "2000 | 7     | Ohio Valley Climate Region | 73.6\n",
       "2000 | 8     | Ohio Valley Climate Region | 74.7\n",
       "2000 | 9     | Ohio Valley Climate Region | 66.6\n",
       "2000 | 10    | Ohio Valley Climate Region | 58.5\n",
       "... (215 rows omitted)"
      ]
     },
     "execution_count": 13,
     "metadata": {},
     "output_type": "execute_result"
    }
   ],
   "source": [
    "# Maybe find the data for just one region\n",
    "temps.where(\"Region\", are.containing(\"Ohio\"))"
   ]
  },
  {
   "cell_type": "code",
   "execution_count": 16,
   "metadata": {},
   "outputs": [
    {
     "data": {
      "text/html": [
       "<table border=\"1\" class=\"dataframe\">\n",
       "    <thead>\n",
       "        <tr>\n",
       "            <th>Region</th> <th>Year mean</th> <th>Month mean</th> <th>Average Temperature mean</th>\n",
       "        </tr>\n",
       "    </thead>\n",
       "    <tbody>\n",
       "        <tr>\n",
       "            <td>Northeast Climate Region                  </td> <td>2008.88  </td> <td>6.44      </td> <td>47.4236                 </td>\n",
       "        </tr>\n",
       "    </tbody>\n",
       "        <tr>\n",
       "            <td>Northern Rockies and Plains Climate Region</td> <td>2008.88  </td> <td>6.44      </td> <td>44.3791                 </td>\n",
       "        </tr>\n",
       "    </tbody>\n",
       "        <tr>\n",
       "            <td>Northwest Climate Region                  </td> <td>2008.88  </td> <td>6.44      </td> <td>46.6302                 </td>\n",
       "        </tr>\n",
       "    </tbody>\n",
       "        <tr>\n",
       "            <td>Ohio Valley Climate Region                </td> <td>2008.88  </td> <td>6.44      </td> <td>54.6213                 </td>\n",
       "        </tr>\n",
       "    </tbody>\n",
       "        <tr>\n",
       "            <td>South Climate Region                      </td> <td>2008.88  </td> <td>6.44      </td> <td>63.416                  </td>\n",
       "        </tr>\n",
       "    </tbody>\n",
       "        <tr>\n",
       "            <td>Southeast Climate Region                  </td> <td>2008.88  </td> <td>6.44      </td> <td>63.6053                 </td>\n",
       "        </tr>\n",
       "    </tbody>\n",
       "        <tr>\n",
       "            <td>Southwest Climate Region                  </td> <td>2008.88  </td> <td>6.44      </td> <td>53.6453                 </td>\n",
       "        </tr>\n",
       "    </tbody>\n",
       "        <tr>\n",
       "            <td>Upper Midwest Climate Region              </td> <td>2008.88  </td> <td>6.44      </td> <td>44.9018                 </td>\n",
       "        </tr>\n",
       "    </tbody>\n",
       "        <tr>\n",
       "            <td>West Climate Region                       </td> <td>2008.88  </td> <td>6.44      </td> <td>56.1009                 </td>\n",
       "        </tr>\n",
       "    </tbody>\n",
       "</table>"
      ],
      "text/plain": [
       "Region                                     | Year mean | Month mean | Average Temperature mean\n",
       "Northeast Climate Region                   | 2008.88   | 6.44       | 47.4236\n",
       "Northern Rockies and Plains Climate Region | 2008.88   | 6.44       | 44.3791\n",
       "Northwest Climate Region                   | 2008.88   | 6.44       | 46.6302\n",
       "Ohio Valley Climate Region                 | 2008.88   | 6.44       | 54.6213\n",
       "South Climate Region                       | 2008.88   | 6.44       | 63.416\n",
       "Southeast Climate Region                   | 2008.88   | 6.44       | 63.6053\n",
       "Southwest Climate Region                   | 2008.88   | 6.44       | 53.6453\n",
       "Upper Midwest Climate Region               | 2008.88   | 6.44       | 44.9018\n",
       "West Climate Region                        | 2008.88   | 6.44       | 56.1009"
      ]
     },
     "execution_count": 16,
     "metadata": {},
     "output_type": "execute_result"
    }
   ],
   "source": [
    "# Maybe find the average temperature for each region\n",
    "temps.group(\"Region\", np.mean)"
   ]
  },
  {
   "cell_type": "code",
   "execution_count": 20,
   "metadata": {},
   "outputs": [
    {
     "data": {
      "text/html": [
       "<table border=\"1\" class=\"dataframe\">\n",
       "    <thead>\n",
       "        <tr>\n",
       "            <th>Year</th> <th>Month mean</th> <th>Region mean</th> <th>Average Temperature mean</th>\n",
       "        </tr>\n",
       "    </thead>\n",
       "    <tbody>\n",
       "        <tr>\n",
       "            <td>2000</td> <td>6.5       </td> <td>           </td> <td>52.2444                 </td>\n",
       "        </tr>\n",
       "    </tbody>\n",
       "        <tr>\n",
       "            <td>2001</td> <td>6.5       </td> <td>           </td> <td>52.8194                 </td>\n",
       "        </tr>\n",
       "    </tbody>\n",
       "        <tr>\n",
       "            <td>2002</td> <td>6.5       </td> <td>           </td> <td>52.4222                 </td>\n",
       "        </tr>\n",
       "    </tbody>\n",
       "        <tr>\n",
       "            <td>2003</td> <td>6.5       </td> <td>           </td> <td>52.2963                 </td>\n",
       "        </tr>\n",
       "    </tbody>\n",
       "        <tr>\n",
       "            <td>2004</td> <td>6.5       </td> <td>           </td> <td>52.1954                 </td>\n",
       "        </tr>\n",
       "    </tbody>\n",
       "        <tr>\n",
       "            <td>2005</td> <td>6.5       </td> <td>           </td> <td>52.6954                 </td>\n",
       "        </tr>\n",
       "    </tbody>\n",
       "        <tr>\n",
       "            <td>2006</td> <td>6.5       </td> <td>           </td> <td>53.3278                 </td>\n",
       "        </tr>\n",
       "    </tbody>\n",
       "        <tr>\n",
       "            <td>2007</td> <td>6.5       </td> <td>           </td> <td>52.7694                 </td>\n",
       "        </tr>\n",
       "    </tbody>\n",
       "        <tr>\n",
       "            <td>2008</td> <td>6.5       </td> <td>           </td> <td>51.4296                 </td>\n",
       "        </tr>\n",
       "    </tbody>\n",
       "        <tr>\n",
       "            <td>2009</td> <td>6.5       </td> <td>           </td> <td>51.4954                 </td>\n",
       "        </tr>\n",
       "    </tbody>\n",
       "</table>\n",
       "<p>... (9 rows omitted)</p>"
      ],
      "text/plain": [
       "Year | Month mean | Region mean | Average Temperature mean\n",
       "2000 | 6.5        |             | 52.2444\n",
       "2001 | 6.5        |             | 52.8194\n",
       "2002 | 6.5        |             | 52.4222\n",
       "2003 | 6.5        |             | 52.2963\n",
       "2004 | 6.5        |             | 52.1954\n",
       "2005 | 6.5        |             | 52.6954\n",
       "2006 | 6.5        |             | 53.3278\n",
       "2007 | 6.5        |             | 52.7694\n",
       "2008 | 6.5        |             | 51.4296\n",
       "2009 | 6.5        |             | 51.4954\n",
       "... (9 rows omitted)"
      ]
     },
     "execution_count": 20,
     "metadata": {},
     "output_type": "execute_result"
    }
   ],
   "source": [
    "# Maybe find the average temperature for each year\n",
    "temps.group(\"Year\", np.mean)"
   ]
  },
  {
   "cell_type": "code",
   "execution_count": 21,
   "metadata": {},
   "outputs": [
    {
     "data": {
      "text/html": [
       "<table border=\"1\" class=\"dataframe\">\n",
       "    <thead>\n",
       "        <tr>\n",
       "            <th>Year</th> <th>Month mean</th> <th>Region mean</th> <th>Average Temperature mean</th>\n",
       "        </tr>\n",
       "    </thead>\n",
       "    <tbody>\n",
       "        <tr>\n",
       "            <td>2000</td> <td>6.5       </td> <td>           </td> <td>53.8083                 </td>\n",
       "        </tr>\n",
       "    </tbody>\n",
       "        <tr>\n",
       "            <td>2001</td> <td>6.5       </td> <td>           </td> <td>54.775                  </td>\n",
       "        </tr>\n",
       "    </tbody>\n",
       "        <tr>\n",
       "            <td>2002</td> <td>6.5       </td> <td>           </td> <td>54.7917                 </td>\n",
       "        </tr>\n",
       "    </tbody>\n",
       "        <tr>\n",
       "            <td>2003</td> <td>6.5       </td> <td>           </td> <td>53.3083                 </td>\n",
       "        </tr>\n",
       "    </tbody>\n",
       "        <tr>\n",
       "            <td>2004</td> <td>6.5       </td> <td>           </td> <td>54.2                    </td>\n",
       "        </tr>\n",
       "    </tbody>\n",
       "        <tr>\n",
       "            <td>2005</td> <td>6.5       </td> <td>           </td> <td>54.925                  </td>\n",
       "        </tr>\n",
       "    </tbody>\n",
       "        <tr>\n",
       "            <td>2006</td> <td>6.5       </td> <td>           </td> <td>55.3417                 </td>\n",
       "        </tr>\n",
       "    </tbody>\n",
       "        <tr>\n",
       "            <td>2007</td> <td>6.5       </td> <td>           </td> <td>55.3417                 </td>\n",
       "        </tr>\n",
       "    </tbody>\n",
       "        <tr>\n",
       "            <td>2008</td> <td>6.5       </td> <td>           </td> <td>53.025                  </td>\n",
       "        </tr>\n",
       "    </tbody>\n",
       "        <tr>\n",
       "            <td>2009</td> <td>6.5       </td> <td>           </td> <td>53.2417                 </td>\n",
       "        </tr>\n",
       "    </tbody>\n",
       "</table>\n",
       "<p>... (9 rows omitted)</p>"
      ],
      "text/plain": [
       "Year | Month mean | Region mean | Average Temperature mean\n",
       "2000 | 6.5        |             | 53.8083\n",
       "2001 | 6.5        |             | 54.775\n",
       "2002 | 6.5        |             | 54.7917\n",
       "2003 | 6.5        |             | 53.3083\n",
       "2004 | 6.5        |             | 54.2\n",
       "2005 | 6.5        |             | 54.925\n",
       "2006 | 6.5        |             | 55.3417\n",
       "2007 | 6.5        |             | 55.3417\n",
       "2008 | 6.5        |             | 53.025\n",
       "2009 | 6.5        |             | 53.2417\n",
       "... (9 rows omitted)"
      ]
     },
     "execution_count": 21,
     "metadata": {},
     "output_type": "execute_result"
    }
   ],
   "source": [
    "# Maybe find the average temperature for each year for just one region\n",
    "temps.where(\"Region\", are.containing(\"Ohio\")).group(\"Year\", np.mean)"
   ]
  },
  {
   "cell_type": "code",
   "execution_count": null,
   "metadata": {},
   "outputs": [],
   "source": [
    "# Maybe find the average temperature for each month"
   ]
  },
  {
   "cell_type": "code",
   "execution_count": null,
   "metadata": {},
   "outputs": [],
   "source": [
    "# Maybe find the average temperature for any region containing \"North\" versus containing \"South\""
   ]
  },
  {
   "cell_type": "markdown",
   "metadata": {},
   "source": [
    "# Let's look at trends over time\n",
    "---\n",
    "What's a good way to represent this data?\n",
    "\n",
    "How does temperature change over the course of a year?  What about two years?\n",
    "\n",
    "How does temperature change over the course of 18 years?"
   ]
  },
  {
   "cell_type": "code",
   "execution_count": null,
   "metadata": {},
   "outputs": [],
   "source": [
    "\n",
    "\n",
    "\n",
    "\n",
    "\n",
    "\n",
    "\n",
    "\n",
    "\n",
    "\n",
    "\n",
    "\n",
    "\n",
    "\n",
    "\n",
    "\n",
    "\n",
    "\n",
    "\n",
    "\n",
    "\n",
    "\n",
    "\n",
    "\n",
    "# Maybe a line plot :) "
   ]
  },
  {
   "cell_type": "code",
   "execution_count": 26,
   "metadata": {},
   "outputs": [
    {
     "data": {
      "image/png": "[encoded data removed]",
      "text/plain": [
       "<matplotlib.figure.Figure at 0x7f5b2191f278>"
      ]
     },
     "metadata": {
      "needs_background": "light"
     },
     "output_type": "display_data"
    }
   ],
   "source": [
    "# Plot against month for a given year\n",
    "temps.where(\n",
    "    \"Year\", 2016\n",
    ").group(\n",
    "    \"Month\", np.mean\n",
    ").plot(\"Month\", \"Average Temperature mean\")"
   ]
  },
  {
   "cell_type": "code",
   "execution_count": 28,
   "metadata": {},
   "outputs": [
    {
     "data": {
      "text/html": [
       "<table border=\"1\" class=\"dataframe\">\n",
       "    <thead>\n",
       "        <tr>\n",
       "            <th>Month</th> <th>Year mean</th> <th>Region mean</th> <th>Average Temperature mean</th>\n",
       "        </tr>\n",
       "    </thead>\n",
       "    <tbody>\n",
       "        <tr>\n",
       "            <td>1    </td> <td>2016.5   </td> <td>           </td> <td>32.0389                 </td>\n",
       "        </tr>\n",
       "    </tbody>\n",
       "        <tr>\n",
       "            <td>2    </td> <td>2016.5   </td> <td>           </td> <td>39.0056                 </td>\n",
       "        </tr>\n",
       "    </tbody>\n",
       "        <tr>\n",
       "            <td>3    </td> <td>2016.5   </td> <td>           </td> <td>45.35                   </td>\n",
       "        </tr>\n",
       "    </tbody>\n",
       "        <tr>\n",
       "            <td>4    </td> <td>2016.5   </td> <td>           </td> <td>52.5278                 </td>\n",
       "        </tr>\n",
       "    </tbody>\n",
       "        <tr>\n",
       "            <td>5    </td> <td>2016.5   </td> <td>           </td> <td>59.6889                 </td>\n",
       "        </tr>\n",
       "    </tbody>\n",
       "        <tr>\n",
       "            <td>6    </td> <td>2016.5   </td> <td>           </td> <td>70.0278                 </td>\n",
       "        </tr>\n",
       "    </tbody>\n",
       "        <tr>\n",
       "            <td>7    </td> <td>2016.5   </td> <td>           </td> <td>74.5111                 </td>\n",
       "        </tr>\n",
       "    </tbody>\n",
       "        <tr>\n",
       "            <td>8    </td> <td>2016.5   </td> <td>           </td> <td>72.2056                 </td>\n",
       "        </tr>\n",
       "    </tbody>\n",
       "        <tr>\n",
       "            <td>9    </td> <td>2016.5   </td> <td>           </td> <td>66.0222                 </td>\n",
       "        </tr>\n",
       "    </tbody>\n",
       "        <tr>\n",
       "            <td>10   </td> <td>2016.5   </td> <td>           </td> <td>55.9556                 </td>\n",
       "        </tr>\n",
       "    </tbody>\n",
       "</table>\n",
       "<p>... (2 rows omitted)</p>"
      ],
      "text/plain": [
       "Month | Year mean | Region mean | Average Temperature mean\n",
       "1     | 2016.5    |             | 32.0389\n",
       "2     | 2016.5    |             | 39.0056\n",
       "3     | 2016.5    |             | 45.35\n",
       "4     | 2016.5    |             | 52.5278\n",
       "5     | 2016.5    |             | 59.6889\n",
       "6     | 2016.5    |             | 70.0278\n",
       "7     | 2016.5    |             | 74.5111\n",
       "8     | 2016.5    |             | 72.2056\n",
       "9     | 2016.5    |             | 66.0222\n",
       "10    | 2016.5    |             | 55.9556\n",
       "... (2 rows omitted)"
      ]
     },
     "execution_count": 28,
     "metadata": {},
     "output_type": "execute_result"
    }
   ],
   "source": [
    "# Plot against month for a range of two years\n",
    "temps.where(\"Year\", are.between(2016, 2018)).group(\"Month\", np.mean)"
   ]
  },
  {
   "cell_type": "code",
   "execution_count": null,
   "metadata": {},
   "outputs": [],
   "source": [
    "\n",
    "\n",
    "\n",
    "\n",
    "\n",
    "\n",
    "\n",
    "\n",
    "\n",
    "\n",
    "\n",
    "\n",
    "\n",
    "\n",
    "\n",
    "\n",
    "\n",
    "\n",
    "\n",
    "\n",
    "\n",
    "# Uh oh!\n",
    "# We need some way to distinguish the months in one year from another year"
   ]
  },
  {
   "cell_type": "code",
   "execution_count": null,
   "metadata": {},
   "outputs": [],
   "source": [
    "\n",
    "\n",
    "\n",
    "\n",
    "\n",
    "\n",
    "\n",
    "\n",
    "\n",
    "\n",
    "\n",
    "\n",
    "\n",
    "\n",
    "\n",
    "\n",
    "\n",
    "\n",
    "\n",
    "# Maybe give apply a shot"
   ]
  },
  {
   "cell_type": "markdown",
   "metadata": {},
   "source": [
    "# Recall the syntax of `apply`\n",
    "---\n",
    "\n",
    "`table.apply ( method, column_name, column_name, ... ) => returns an array of the method applied to the values in the specified columns`"
   ]
  },
  {
   "cell_type": "code",
   "execution_count": 29,
   "metadata": {
    "collapsed": true
   },
   "outputs": [
    {
     "name": "stdout",
     "output_type": "stream",
     "text": [
      "Help on function apply in module datascience.tables:\n",
      "\n",
      "apply(self, fn, *column_or_columns)\n",
      "    Apply ``fn`` to each element or elements of ``column_or_columns``.\n",
      "    If no ``column_or_columns`` provided, `fn`` is applied to each row.\n",
      "    \n",
      "    Args:\n",
      "        ``fn`` (function) -- The function to apply.\n",
      "        ``column_or_columns``: Columns containing the arguments to ``fn``\n",
      "            as either column labels (``str``) or column indices (``int``).\n",
      "            The number of columns must match the number of arguments\n",
      "            that ``fn`` expects.\n",
      "    \n",
      "    Raises:\n",
      "        ``ValueError`` -- if  ``column_label`` is not an existing\n",
      "            column in the table.\n",
      "        ``TypeError`` -- if insufficent number of ``column_label`` passed\n",
      "            to ``fn``.\n",
      "    \n",
      "    Returns:\n",
      "        An array consisting of results of applying ``fn`` to elements\n",
      "        specified by ``column_label`` in each row.\n",
      "    \n",
      "    >>> t = Table().with_columns(\n",
      "    ...     'letter', make_array('a', 'b', 'c', 'z'),\n",
      "    ...     'count',  make_array(9, 3, 3, 1),\n",
      "    ...     'points', make_array(1, 2, 2, 10))\n",
      "    >>> t\n",
      "    letter | count | points\n",
      "    a      | 9     | 1\n",
      "    b      | 3     | 2\n",
      "    c      | 3     | 2\n",
      "    z      | 1     | 10\n",
      "    >>> t.apply(lambda x: x - 1, 'points')\n",
      "    array([0, 1, 1, 9])\n",
      "    >>> t.apply(lambda x, y: x * y, 'count', 'points')\n",
      "    array([ 9,  6,  6, 10])\n",
      "    >>> t.apply(lambda x: x - 1, 'count', 'points')\n",
      "    Traceback (most recent call last):\n",
      "        ...\n",
      "    TypeError: <lambda>() takes 1 positional argument but 2 were given\n",
      "    >>> t.apply(lambda x: x - 1, 'counts')\n",
      "    Traceback (most recent call last):\n",
      "        ...\n",
      "    ValueError: The column \"counts\" is not in the table. The table contains these columns: letter, count, points\n",
      "    \n",
      "    Whole rows are passed to the function if no columns are specified.\n",
      "    \n",
      "    >>> t.apply(lambda row: row[1] * 2)\n",
      "    array([18,  6,  6,  2])\n",
      "\n"
     ]
    }
   ],
   "source": [
    "help(Table.apply)"
   ]
  },
  {
   "cell_type": "markdown",
   "metadata": {},
   "source": [
    "We should look at the [datetime.date documentation](https://docs.python.org/3.6/library/datetime.html#date-objects)."
   ]
  },
  {
   "cell_type": "code",
   "execution_count": 30,
   "metadata": {},
   "outputs": [],
   "source": [
    "# Let's write a function to turn a year and month into a datetime that python can understand\n",
    "\n",
    "import datetime\n",
    "\n",
    "def make_date_from_year_month(year, month):\n",
    "    return datetime.date(year, month, 1)"
   ]
  },
  {
   "cell_type": "code",
   "execution_count": 34,
   "metadata": {},
   "outputs": [],
   "source": [
    "# Apply our function, what do we get?\n",
    "dates = temps.apply(make_date_from_year_month, \"Year\", \"Month\")"
   ]
  },
  {
   "cell_type": "code",
   "execution_count": 36,
   "metadata": {},
   "outputs": [
    {
     "data": {
      "text/html": [
       "<table border=\"1\" class=\"dataframe\">\n",
       "    <thead>\n",
       "        <tr>\n",
       "            <th>Year</th> <th>Month</th> <th>Region</th> <th>Average Temperature</th> <th>Date</th>\n",
       "        </tr>\n",
       "    </thead>\n",
       "    <tbody>\n",
       "        <tr>\n",
       "            <td>2000</td> <td>1    </td> <td>Northeast Climate Region</td> <td>21.4               </td> <td>2000-01-01</td>\n",
       "        </tr>\n",
       "    </tbody>\n",
       "        <tr>\n",
       "            <td>2000</td> <td>2    </td> <td>Northeast Climate Region</td> <td>27.2               </td> <td>2000-02-01</td>\n",
       "        </tr>\n",
       "    </tbody>\n",
       "        <tr>\n",
       "            <td>2000</td> <td>3    </td> <td>Northeast Climate Region</td> <td>39.1               </td> <td>2000-03-01</td>\n",
       "        </tr>\n",
       "    </tbody>\n",
       "        <tr>\n",
       "            <td>2000</td> <td>4    </td> <td>Northeast Climate Region</td> <td>44.2               </td> <td>2000-04-01</td>\n",
       "        </tr>\n",
       "    </tbody>\n",
       "        <tr>\n",
       "            <td>2000</td> <td>5    </td> <td>Northeast Climate Region</td> <td>56.6               </td> <td>2000-05-01</td>\n",
       "        </tr>\n",
       "    </tbody>\n",
       "        <tr>\n",
       "            <td>2000</td> <td>6    </td> <td>Northeast Climate Region</td> <td>64.5               </td> <td>2000-06-01</td>\n",
       "        </tr>\n",
       "    </tbody>\n",
       "        <tr>\n",
       "            <td>2000</td> <td>7    </td> <td>Northeast Climate Region</td> <td>65.8               </td> <td>2000-07-01</td>\n",
       "        </tr>\n",
       "    </tbody>\n",
       "        <tr>\n",
       "            <td>2000</td> <td>8    </td> <td>Northeast Climate Region</td> <td>66.2               </td> <td>2000-08-01</td>\n",
       "        </tr>\n",
       "    </tbody>\n",
       "        <tr>\n",
       "            <td>2000</td> <td>9    </td> <td>Northeast Climate Region</td> <td>58.9               </td> <td>2000-09-01</td>\n",
       "        </tr>\n",
       "    </tbody>\n",
       "        <tr>\n",
       "            <td>2000</td> <td>10   </td> <td>Northeast Climate Region</td> <td>49.5               </td> <td>2000-10-01</td>\n",
       "        </tr>\n",
       "    </tbody>\n",
       "</table>\n",
       "<p>... (2015 rows omitted)</p>"
      ],
      "text/plain": [
       "Year | Month | Region                   | Average Temperature | Date\n",
       "2000 | 1     | Northeast Climate Region | 21.4                | 2000-01-01\n",
       "2000 | 2     | Northeast Climate Region | 27.2                | 2000-02-01\n",
       "2000 | 3     | Northeast Climate Region | 39.1                | 2000-03-01\n",
       "2000 | 4     | Northeast Climate Region | 44.2                | 2000-04-01\n",
       "2000 | 5     | Northeast Climate Region | 56.6                | 2000-05-01\n",
       "2000 | 6     | Northeast Climate Region | 64.5                | 2000-06-01\n",
       "2000 | 7     | Northeast Climate Region | 65.8                | 2000-07-01\n",
       "2000 | 8     | Northeast Climate Region | 66.2                | 2000-08-01\n",
       "2000 | 9     | Northeast Climate Region | 58.9                | 2000-09-01\n",
       "2000 | 10    | Northeast Climate Region | 49.5                | 2000-10-01\n",
       "... (2015 rows omitted)"
      ]
     },
     "execution_count": 36,
     "metadata": {},
     "output_type": "execute_result"
    }
   ],
   "source": [
    "# Okay, what can we do with that?\n",
    "temps_with_dates = temps.with_column(\"Date\", dates)\n",
    "temps_with_dates"
   ]
  },
  {
   "cell_type": "markdown",
   "metadata": {},
   "source": [
    "# Let's finally plot monthly temperatures over multiple years\n",
    "---"
   ]
  },
  {
   "cell_type": "code",
   "execution_count": 45,
   "metadata": {
    "scrolled": true
   },
   "outputs": [
    {
     "data": {
      "image/png": "[encoded data removed]",
      "text/plain": [
       "<matplotlib.figure.Figure at 0x7f5b21c59048>"
      ]
     },
     "metadata": {
      "needs_background": "light"
     },
     "output_type": "display_data"
    }
   ],
   "source": [
    "start_date = datetime.date(2000, 1, 1)\n",
    "end_date = datetime.date(2018, 1, 1)\n",
    "\n",
    "temps_with_dates.where(\n",
    "    \"Date\", are.between(start_date, end_date)\n",
    ").group(\"Date\", np.mean).plot(\"Date\", \"Average Temperature mean\")"
   ]
  },
  {
   "cell_type": "code",
   "execution_count": null,
   "metadata": {},
   "outputs": [],
   "source": [
    "# Let's change the start date to look at the temperature from 2000 to 2018"
   ]
  },
  {
   "cell_type": "markdown",
   "metadata": {},
   "source": [
    "# Alright, what about annual average temperature over time\n",
    "---"
   ]
  },
  {
   "cell_type": "code",
   "execution_count": 46,
   "metadata": {},
   "outputs": [
    {
     "data": {
      "image/png": "[encoded data removed]",
      "text/plain": [
       "<matplotlib.figure.Figure at 0x7f5b1dd04fd0>"
      ]
     },
     "metadata": {
      "needs_background": "light"
     },
     "output_type": "display_data"
    }
   ],
   "source": [
    "# Plot the annual average temperature versus year\n",
    "temps.group(\"Year\", np.mean).plot(\"Year\", \"Average Temperature mean\")"
   ]
  },
  {
   "cell_type": "markdown",
   "metadata": {},
   "source": [
    "What if I just wanted to look at West Climate Region?"
   ]
  },
  {
   "cell_type": "code",
   "execution_count": 47,
   "metadata": {},
   "outputs": [
    {
     "data": {
      "image/png": "[encoded data removed]",
      "text/plain": [
       "<matplotlib.figure.Figure at 0x7f5b1db49080>"
      ]
     },
     "metadata": {
      "needs_background": "light"
     },
     "output_type": "display_data"
    }
   ],
   "source": [
    "temps.where(\n",
    "    \"Region\", are.containing(\"West\")\n",
    ").group(\n",
    "    \"Year\", np.mean\n",
    ").plot(\"Year\", \"Average Temperature mean\")"
   ]
  },
  {
   "cell_type": "code",
   "execution_count": null,
   "metadata": {},
   "outputs": [],
   "source": [
    "# Is there anything weird?\n",
    "\n",
    "# Why?"
   ]
  },
  {
   "cell_type": "markdown",
   "metadata": {},
   "source": [
    "# What does the distribution of ___ look like?\n",
    "---"
   ]
  },
  {
   "cell_type": "code",
   "execution_count": 56,
   "metadata": {},
   "outputs": [
    {
     "data": {
      "image/png": "[encoded data removed]",
      "text/plain": [
       "<matplotlib.figure.Figure at 0x7f5b1d75e978>"
      ]
     },
     "metadata": {
      "needs_background": "light"
     },
     "output_type": "display_data"
    }
   ],
   "source": [
    "temps.group(\n",
    "    \"Year\", np.mean\n",
    ").hist(3, normed=False, bins=np.arange(50, 57, 0.5))"
   ]
  },
  {
   "cell_type": "code",
   "execution_count": null,
   "metadata": {},
   "outputs": [],
   "source": [
    "# We can change \"Year\" and np.mean to a bunch of different stuff\n",
    "\n",
    "# Make sure that we allow default bins if we don't fully know what we're working with\n",
    "\n",
    "# Let's use normed=False to get counts instead of density--a little easier to understand"
   ]
  },
  {
   "cell_type": "markdown",
   "metadata": {},
   "source": [
    "How many years had an average temperature greater than 54°F, using counts?"
   ]
  },
  {
   "cell_type": "code",
   "execution_count": 57,
   "metadata": {},
   "outputs": [
    {
     "data": {
      "text/plain": [
       "3"
      ]
     },
     "execution_count": 57,
     "metadata": {},
     "output_type": "execute_result"
    }
   ],
   "source": [
    "# How many years had an avg temp of > 54\n",
    "\n",
    "\n",
    "2 + 1"
   ]
  },
  {
   "cell_type": "code",
   "execution_count": 58,
   "metadata": {},
   "outputs": [
    {
     "data": {
      "image/png": "[encoded data removed]",
      "text/plain": [
       "<matplotlib.figure.Figure at 0x7f5b1d5d2828>"
      ]
     },
     "metadata": {
      "needs_background": "light"
     },
     "output_type": "display_data"
    }
   ],
   "source": [
    "# Let's try the distribution of annual average temperatures\n",
    "temps.group(\"Year\", np.mean).hist(3, normed=True, bins=np.arange(50, 57, 0.5))"
   ]
  },
  {
   "cell_type": "markdown",
   "metadata": {},
   "source": [
    "How many years had an average temperature greater than 54°F, using density?"
   ]
  },
  {
   "cell_type": "code",
   "execution_count": 59,
   "metadata": {},
   "outputs": [
    {
     "data": {
      "text/plain": [
       "19"
      ]
     },
     "execution_count": 59,
     "metadata": {},
     "output_type": "execute_result"
    }
   ],
   "source": [
    "# We need to know how many years we have\n",
    "temps.group(\"Year\", np.mean).num_rows"
   ]
  },
  {
   "cell_type": "code",
   "execution_count": 62,
   "metadata": {},
   "outputs": [
    {
     "data": {
      "text/plain": [
       "2.8500000000000005"
      ]
     },
     "execution_count": 62,
     "metadata": {},
     "output_type": "execute_result"
    }
   ],
   "source": [
    "# We have 19 years\n",
    "# How many years had an avg temp of > 54\n",
    "(0.2 * 0.5 + 0.1 * 0.5) * 19"
   ]
  },
  {
   "cell_type": "markdown",
   "metadata": {},
   "source": [
    "# We want to compare annual average temperature accross multiple regions\n",
    "---\n",
    "\n",
    "There's an easy way and a hard way to go about this.\n",
    "\n",
    "The way that we're most comfortable with starting is actually a bit more challenging... let's do it anyways"
   ]
  },
  {
   "cell_type": "code",
   "execution_count": null,
   "metadata": {},
   "outputs": [],
   "source": [
    "# I want to compare Northeast to West\n",
    "\n",
    "# What should my logic be to compare Annual Avg Temps for Northeast to those of West?\n",
    "\n",
    "\n",
    "\n",
    "\n",
    "\n",
    "\n",
    "\n",
    "\n",
    "\n",
    "\n",
    "\n",
    "\n",
    "\n",
    "\n",
    "\n",
    "\n",
    "\n",
    "\n",
    "\n",
    "\n",
    "\n",
    "\n",
    "\n",
    "\n",
    "\n",
    "\n",
    "\n",
    "\n",
    "\n",
    "# We've done this before for one region:\n",
    "\n",
    "# Get data for just that region, then group by year"
   ]
  },
  {
   "cell_type": "code",
   "execution_count": 63,
   "metadata": {},
   "outputs": [
    {
     "data": {
      "text/html": [
       "<table border=\"1\" class=\"dataframe\">\n",
       "    <thead>\n",
       "        <tr>\n",
       "            <th>Year</th> <th>Month</th> <th>Region</th> <th>Average Temperature</th>\n",
       "        </tr>\n",
       "    </thead>\n",
       "    <tbody>\n",
       "        <tr>\n",
       "            <td>2000</td> <td>1    </td> <td>Northeast Climate Region</td> <td>21.4               </td>\n",
       "        </tr>\n",
       "    </tbody>\n",
       "        <tr>\n",
       "            <td>2000</td> <td>2    </td> <td>Northeast Climate Region</td> <td>27.2               </td>\n",
       "        </tr>\n",
       "    </tbody>\n",
       "        <tr>\n",
       "            <td>2000</td> <td>3    </td> <td>Northeast Climate Region</td> <td>39.1               </td>\n",
       "        </tr>\n",
       "    </tbody>\n",
       "        <tr>\n",
       "            <td>2000</td> <td>4    </td> <td>Northeast Climate Region</td> <td>44.2               </td>\n",
       "        </tr>\n",
       "    </tbody>\n",
       "        <tr>\n",
       "            <td>2000</td> <td>5    </td> <td>Northeast Climate Region</td> <td>56.6               </td>\n",
       "        </tr>\n",
       "    </tbody>\n",
       "        <tr>\n",
       "            <td>2000</td> <td>6    </td> <td>Northeast Climate Region</td> <td>64.5               </td>\n",
       "        </tr>\n",
       "    </tbody>\n",
       "        <tr>\n",
       "            <td>2000</td> <td>7    </td> <td>Northeast Climate Region</td> <td>65.8               </td>\n",
       "        </tr>\n",
       "    </tbody>\n",
       "        <tr>\n",
       "            <td>2000</td> <td>8    </td> <td>Northeast Climate Region</td> <td>66.2               </td>\n",
       "        </tr>\n",
       "    </tbody>\n",
       "        <tr>\n",
       "            <td>2000</td> <td>9    </td> <td>Northeast Climate Region</td> <td>58.9               </td>\n",
       "        </tr>\n",
       "    </tbody>\n",
       "        <tr>\n",
       "            <td>2000</td> <td>10   </td> <td>Northeast Climate Region</td> <td>49.5               </td>\n",
       "        </tr>\n",
       "    </tbody>\n",
       "</table>\n",
       "<p>... (215 rows omitted)</p>"
      ],
      "text/plain": [
       "Year | Month | Region                   | Average Temperature\n",
       "2000 | 1     | Northeast Climate Region | 21.4\n",
       "2000 | 2     | Northeast Climate Region | 27.2\n",
       "2000 | 3     | Northeast Climate Region | 39.1\n",
       "2000 | 4     | Northeast Climate Region | 44.2\n",
       "2000 | 5     | Northeast Climate Region | 56.6\n",
       "2000 | 6     | Northeast Climate Region | 64.5\n",
       "2000 | 7     | Northeast Climate Region | 65.8\n",
       "2000 | 8     | Northeast Climate Region | 66.2\n",
       "2000 | 9     | Northeast Climate Region | 58.9\n",
       "2000 | 10    | Northeast Climate Region | 49.5\n",
       "... (215 rows omitted)"
      ]
     },
     "execution_count": 63,
     "metadata": {},
     "output_type": "execute_result"
    }
   ],
   "source": [
    "# Grab data for just northeast\n",
    "northeast_data = temps.where(\"Region\", are.containing(\"Northeast\"))\n",
    "northeast_data"
   ]
  },
  {
   "cell_type": "code",
   "execution_count": 64,
   "metadata": {},
   "outputs": [],
   "source": [
    "# Grab data for just west\n",
    "west_data = temps.where(\"Region\", are.containing(\"West\"))"
   ]
  },
  {
   "cell_type": "code",
   "execution_count": 65,
   "metadata": {},
   "outputs": [],
   "source": [
    "# Group both by year\n",
    "northeast_years = northeast_data.group(\"Year\", np.mean)\n",
    "west_years = west_data.group(\"Year\", np.mean)"
   ]
  },
  {
   "cell_type": "markdown",
   "metadata": {},
   "source": [
    "But now I have two separate tables.  We've only learned how to plot from one table so far.\n",
    "\n",
    "We can use matplotlib to circumvent that (don't worry, you don't need to know how to do this)"
   ]
  },
  {
   "cell_type": "code",
   "execution_count": 66,
   "metadata": {},
   "outputs": [
    {
     "data": {
      "image/png": "[encoded data removed]",
      "text/plain": [
       "<matplotlib.figure.Figure at 0x7f5b1dc77eb8>"
      ]
     },
     "metadata": {
      "needs_background": "light"
     },
     "output_type": "display_data"
    }
   ],
   "source": [
    "# Don't worry about this code too much.\n",
    "import matplotlib.pyplot as plt\n",
    "\n",
    "plt.hist(\n",
    "    [northeast_years.column(\"Average Temperature mean\"), west_years.column(\"Average Temperature mean\")],\n",
    "    histtype='stepfilled'\n",
    ")\n",
    "plt.show()"
   ]
  },
  {
   "cell_type": "markdown",
   "metadata": {},
   "source": [
    "Or we can create a new table, add our columns to it, and then plot"
   ]
  },
  {
   "cell_type": "code",
   "execution_count": 68,
   "metadata": {},
   "outputs": [
    {
     "data": {
      "text/html": [
       "<table border=\"1\" class=\"dataframe\">\n",
       "    <thead>\n",
       "        <tr>\n",
       "            <th>Northeast</th> <th>West</th>\n",
       "        </tr>\n",
       "    </thead>\n",
       "    <tbody>\n",
       "        <tr>\n",
       "            <td>46.0333  </td> <td>55.7667</td>\n",
       "        </tr>\n",
       "    </tbody>\n",
       "        <tr>\n",
       "            <td>47.7167  </td> <td>56.0083</td>\n",
       "        </tr>\n",
       "    </tbody>\n",
       "        <tr>\n",
       "            <td>47.7083  </td> <td>55.5417</td>\n",
       "        </tr>\n",
       "    </tbody>\n",
       "        <tr>\n",
       "            <td>45.6083  </td> <td>56.475 </td>\n",
       "        </tr>\n",
       "    </tbody>\n",
       "        <tr>\n",
       "            <td>46.275   </td> <td>55.55  </td>\n",
       "        </tr>\n",
       "    </tbody>\n",
       "        <tr>\n",
       "            <td>47.1333  </td> <td>55.3333</td>\n",
       "        </tr>\n",
       "    </tbody>\n",
       "        <tr>\n",
       "            <td>48.6833  </td> <td>55.4083</td>\n",
       "        </tr>\n",
       "    </tbody>\n",
       "        <tr>\n",
       "            <td>46.7167  </td> <td>55.8833</td>\n",
       "        </tr>\n",
       "    </tbody>\n",
       "        <tr>\n",
       "            <td>46.85    </td> <td>55.4333</td>\n",
       "        </tr>\n",
       "    </tbody>\n",
       "        <tr>\n",
       "            <td>46.125   </td> <td>55.35  </td>\n",
       "        </tr>\n",
       "    </tbody>\n",
       "</table>\n",
       "<p>... (9 rows omitted)</p>"
      ],
      "text/plain": [
       "Northeast | West\n",
       "46.0333   | 55.7667\n",
       "47.7167   | 56.0083\n",
       "47.7083   | 55.5417\n",
       "45.6083   | 56.475\n",
       "46.275    | 55.55\n",
       "47.1333   | 55.3333\n",
       "48.6833   | 55.4083\n",
       "46.7167   | 55.8833\n",
       "46.85     | 55.4333\n",
       "46.125    | 55.35\n",
       "... (9 rows omitted)"
      ]
     },
     "execution_count": 68,
     "metadata": {},
     "output_type": "execute_result"
    }
   ],
   "source": [
    "# Create a new table with a column for Northeast and a column for West, and rows for every year\n",
    "northeast_vs_west = Table().with_columns(\n",
    "    \"Northeast\", northeast_years.column(\"Average Temperature mean\"),\n",
    "    \"West\", west_years.column(\"Average Temperature mean\")\n",
    ")\n",
    "northeast_vs_west"
   ]
  },
  {
   "cell_type": "code",
   "execution_count": 69,
   "metadata": {},
   "outputs": [
    {
     "data": {
      "image/png": "[encoded data removed]",
      "text/plain": [
       "<matplotlib.figure.Figure at 0x7f5b1dcf1080>"
      ]
     },
     "metadata": {
      "needs_background": "light"
     },
     "output_type": "display_data"
    }
   ],
   "source": [
    "# We can histogram this table normally\n",
    "northeast_vs_west.hist()"
   ]
  },
  {
   "cell_type": "markdown",
   "metadata": {},
   "source": [
    "# There's an easier way\n",
    "---\n",
    "\n",
    "Using `table.pivot` we can essentially perform `.where`, `.group`, and `.column` for every region at once.\n",
    "\n",
    "Let's delve into [the documentation](http://data8.org/datascience/_autosummary/datascience.tables.Table.pivot.html) to find out how to use this method."
   ]
  },
  {
   "cell_type": "code",
   "execution_count": 73,
   "metadata": {},
   "outputs": [
    {
     "data": {
      "text/html": [
       "<table border=\"1\" class=\"dataframe\">\n",
       "    <thead>\n",
       "        <tr>\n",
       "            <th>Year</th> <th>Northeast Climate Region</th> <th>Northern Rockies and Plains Climate Region</th> <th>Northwest Climate Region</th> <th>Ohio Valley Climate Region</th> <th>South Climate Region</th> <th>Southeast Climate Region</th> <th>Southwest Climate Region</th> <th>Upper Midwest Climate Region</th> <th>West Climate Region</th>\n",
       "        </tr>\n",
       "    </thead>\n",
       "    <tbody>\n",
       "        <tr>\n",
       "            <td>2000</td> <td>46.0333                 </td> <td>44.0417                                   </td> <td>45.9333                 </td> <td>53.8083                   </td> <td>63.4667             </td> <td>62.6667                 </td> <td>53.9667                 </td> <td>44.5167                     </td> <td>55.7667            </td>\n",
       "        </tr>\n",
       "    </tbody>\n",
       "        <tr>\n",
       "            <td>2001</td> <td>47.7167                 </td> <td>44.9333                                   </td> <td>46.325                  </td> <td>54.775                    </td> <td>63.1583             </td> <td>63.15                   </td> <td>53.5667                 </td> <td>45.7417                     </td> <td>56.0083            </td>\n",
       "        </tr>\n",
       "    </tbody>\n",
       "        <tr>\n",
       "            <td>2002</td> <td>47.7083                 </td> <td>43.55                                     </td> <td>45.9                    </td> <td>54.7917                   </td> <td>62.525              </td> <td>63.65                   </td> <td>53.1                    </td> <td>45.0333                     </td> <td>55.5417            </td>\n",
       "        </tr>\n",
       "    </tbody>\n",
       "        <tr>\n",
       "            <td>2003</td> <td>45.6083                 </td> <td>44.4                                      </td> <td>47.5583                 </td> <td>53.3083                   </td> <td>62.65               </td> <td>62.6167                 </td> <td>54.1833                 </td> <td>43.8667                     </td> <td>56.475             </td>\n",
       "        </tr>\n",
       "    </tbody>\n",
       "        <tr>\n",
       "            <td>2004</td> <td>46.275                  </td> <td>44.1083                                   </td> <td>47                      </td> <td>54.2                      </td> <td>62.7833             </td> <td>63.1667                 </td> <td>52.5583                 </td> <td>44.1167                     </td> <td>55.55              </td>\n",
       "        </tr>\n",
       "    </tbody>\n",
       "        <tr>\n",
       "            <td>2005</td> <td>47.1333                 </td> <td>44.8833                                   </td> <td>46.225                  </td> <td>54.925                    </td> <td>63.5                </td> <td>63.1667                 </td> <td>53.4417                 </td> <td>45.65                       </td> <td>55.3333            </td>\n",
       "        </tr>\n",
       "    </tbody>\n",
       "        <tr>\n",
       "            <td>2006</td> <td>48.6833                 </td> <td>45.7583                                   </td> <td>46.5583                 </td> <td>55.3417                   </td> <td>64.3667             </td> <td>63.7833                 </td> <td>53.35                   </td> <td>46.7                        </td> <td>55.4083            </td>\n",
       "        </tr>\n",
       "    </tbody>\n",
       "        <tr>\n",
       "            <td>2007</td> <td>46.7167                 </td> <td>44.9833                                   </td> <td>46.5083                 </td> <td>55.3417                   </td> <td>62.7583             </td> <td>64.1667                 </td> <td>53.3833                 </td> <td>45.1833                     </td> <td>55.8833            </td>\n",
       "        </tr>\n",
       "    </tbody>\n",
       "        <tr>\n",
       "            <td>2008</td> <td>46.85                   </td> <td>42.3833                                   </td> <td>45.075                  </td> <td>53.025                    </td> <td>62.4167             </td> <td>62.9417                 </td> <td>52.3083                 </td> <td>42.4333                     </td> <td>55.4333            </td>\n",
       "        </tr>\n",
       "    </tbody>\n",
       "        <tr>\n",
       "            <td>2009</td> <td>46.125                  </td> <td>42.1833                                   </td> <td>45.525                  </td> <td>53.2417                   </td> <td>62.575              </td> <td>62.8167                 </td> <td>52.7333                 </td> <td>42.9083                     </td> <td>55.35              </td>\n",
       "        </tr>\n",
       "    </tbody>\n",
       "</table>\n",
       "<p>... (9 rows omitted)</p>"
      ],
      "text/plain": [
       "Year | Northeast Climate Region | Northern Rockies and Plains Climate Region | Northwest Climate Region | Ohio Valley Climate Region | South Climate Region | Southeast Climate Region | Southwest Climate Region | Upper Midwest Climate Region | West Climate Region\n",
       "2000 | 46.0333                  | 44.0417                                    | 45.9333                  | 53.8083                    | 63.4667              | 62.6667                  | 53.9667                  | 44.5167                      | 55.7667\n",
       "2001 | 47.7167                  | 44.9333                                    | 46.325                   | 54.775                     | 63.1583              | 63.15                    | 53.5667                  | 45.7417                      | 56.0083\n",
       "2002 | 47.7083                  | 43.55                                      | 45.9                     | 54.7917                    | 62.525               | 63.65                    | 53.1                     | 45.0333                      | 55.5417\n",
       "2003 | 45.6083                  | 44.4                                       | 47.5583                  | 53.3083                    | 62.65                | 62.6167                  | 54.1833                  | 43.8667                      | 56.475\n",
       "2004 | 46.275                   | 44.1083                                    | 47                       | 54.2                       | 62.7833              | 63.1667                  | 52.5583                  | 44.1167                      | 55.55\n",
       "2005 | 47.1333                  | 44.8833                                    | 46.225                   | 54.925                     | 63.5                 | 63.1667                  | 53.4417                  | 45.65                        | 55.3333\n",
       "2006 | 48.6833                  | 45.7583                                    | 46.5583                  | 55.3417                    | 64.3667              | 63.7833                  | 53.35                    | 46.7                         | 55.4083\n",
       "2007 | 46.7167                  | 44.9833                                    | 46.5083                  | 55.3417                    | 62.7583              | 64.1667                  | 53.3833                  | 45.1833                      | 55.8833\n",
       "2008 | 46.85                    | 42.3833                                    | 45.075                   | 53.025                     | 62.4167              | 62.9417                  | 52.3083                  | 42.4333                      | 55.4333\n",
       "2009 | 46.125                   | 42.1833                                    | 45.525                   | 53.2417                    | 62.575               | 62.8167                  | 52.7333                  | 42.9083                      | 55.35\n",
       "... (9 rows omitted)"
      ]
     },
     "execution_count": 73,
     "metadata": {},
     "output_type": "execute_result"
    }
   ],
   "source": [
    "# Before we use the method, we should think clearly about what we want to achieve\n",
    "all_year_avgs = temps.pivot(\"Region\", \"Year\", values=\"Average Temperature\", collect=np.mean)\n",
    "all_year_avgs"
   ]
  },
  {
   "cell_type": "code",
   "execution_count": 74,
   "metadata": {},
   "outputs": [
    {
     "data": {
      "image/png": "[encoded data removed]",
      "text/plain": [
       "<matplotlib.figure.Figure at 0x7f5b1de830b8>"
      ]
     },
     "metadata": {
      "needs_background": "light"
     },
     "output_type": "display_data"
    }
   ],
   "source": [
    "# Now let's compare West Climate Region to Northeast Climate Region\n",
    "a = all_year_avgs\n",
    "a.hist(\"Northeast Climate Region\", \"West Climate Region\")"
   ]
  },
  {
   "cell_type": "code",
   "execution_count": 75,
   "metadata": {},
   "outputs": [
    {
     "data": {
      "image/png": "[encoded data removed]",
      "text/plain": [
       "<matplotlib.figure.Figure at 0x7f5b1de16e80>"
      ]
     },
     "metadata": {
      "needs_background": "light"
     },
     "output_type": "display_data"
    }
   ],
   "source": [
    "# We can even compare every region this way\n",
    "a.hist(np.arange(1, 10))"
   ]
  },
  {
   "cell_type": "markdown",
   "metadata": {},
   "source": [
    "# Let's finish with some knowledge about histograms\n",
    "---\n",
    "\n",
    "We might have some questions about these histograms, and we should figure out the answers!\n",
    "\n",
    "Q. What do histograms measure?\n",
    "\n",
    "Q. Why the histograms for some regions taller than others?\n",
    "\n",
    "Q. What do we know is true for every region's histogram?\n",
    "\n",
    "Q. If we change to density (`normed=False`) then does our previous answer change?\n",
    "\n",
    "Q. How do we calculate the number of occurrences of a certain bin using counts (`normed=False`)?\n",
    "\n",
    "Q. How do we calculate the number of occurrences of a certain bin using density?"
   ]
  },
  {
   "cell_type": "code",
   "execution_count": null,
   "metadata": {},
   "outputs": [],
   "source": [
    "# PERCENT PER UNIT\n",
    "\n",
    "# UNIT = BIN SIZE\n",
    "\n",
    "# (% / Unit) * Unit => %\n",
    "# % * population => count"
   ]
  }
 ],
 "metadata": {
  "kernelspec": {
   "display_name": "Python 3",
   "language": "python",
   "name": "python3"
  },
  "language_info": {
   "codemirror_mode": {
    "name": "ipython",
    "version": 3
   },
   "file_extension": ".py",
   "mimetype": "text/x-python",
   "name": "python",
   "nbconvert_exporter": "python",
   "pygments_lexer": "ipython3",
   "version": "3.6.1"
  }
 },
 "nbformat": 4,
 "nbformat_minor": 2
}
