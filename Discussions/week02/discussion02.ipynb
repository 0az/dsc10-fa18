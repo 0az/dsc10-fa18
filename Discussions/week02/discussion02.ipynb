{
 "cells": [
  {
   "cell_type": "code",
   "execution_count": null,
   "metadata": {},
   "outputs": [],
   "source": [
    "from datascience import *\n",
    "import numpy as np\n",
    "%matplotlib inline"
   ]
  },
  {
   "cell_type": "markdown",
   "metadata": {},
   "source": [
    "# Getting some data\n",
    "---\n",
    "\n",
    "I found this online as an Excel file.  We have it as a csv named `fortnite-games-data.csv`, but we need to read that to a Table!"
   ]
  },
  {
   "cell_type": "code",
   "execution_count": null,
   "metadata": {},
   "outputs": [],
   "source": [
    "# Some code to read the csv\n",
    "fortnite = ..."
   ]
  },
  {
   "cell_type": "markdown",
   "metadata": {},
   "source": [
    "I'd really like to be able to see what we've got.  I only want to see the first 5 rows though, just to check it out."
   ]
  },
  {
   "cell_type": "code",
   "execution_count": null,
   "metadata": {},
   "outputs": [],
   "source": [
    "# Some code to display just the first 5 rows\n"
   ]
  },
  {
   "cell_type": "markdown",
   "metadata": {},
   "source": [
    "# That's a lot of data... what does it all mean?\n",
    "---\n",
    "It's generally a good idea to understand what we're working with.\n",
    "\n",
    "Let's briefly describe what each column means.  If we have anyone in the room with \\*ahem\\* some domain knowledge in this field, that could help!"
   ]
  },
  {
   "cell_type": "code",
   "execution_count": null,
   "metadata": {},
   "outputs": [],
   "source": [
    "# Solo is whether they were solo vs with a squad\n",
    "# Placed is how close to winning (#1) they were -- how many people left alive when they died\n",
    "# Max placement is out of 100 for solo, out of 25 for squads"
   ]
  },
  {
   "cell_type": "markdown",
   "metadata": {},
   "source": [
    "# Add a max placement column\n",
    "---\n",
    "\n",
    "In solo matches, placement can be from 1 to 100, but in squad matches it only goes to 25.\n",
    "\n",
    "We can use some array math to add a `Max Placement` column to our table!"
   ]
  },
  {
   "cell_type": "code",
   "execution_count": null,
   "metadata": {},
   "outputs": [],
   "source": [
    "# Code to make a max_placement array\n",
    "\n",
    "max_placement = ...\n",
    "\n",
    "# Code to add this as a column\n",
    "fortnite = ...\n",
    "fortnite.show(5)"
   ]
  },
  {
   "cell_type": "markdown",
   "metadata": {},
   "source": [
    "# Let's answer some questions\n",
    "---\n",
    "\n",
    "- What is this player's average placement?\n",
    "- How many eliminations does this player have in total? Average per match?\n",
    "- How many eliminations did this player get solo versus in a squad? Average per each category?\n",
    "- What percentage of matches did this player get less than 2 eliminations?\n",
    "- What were this player's best games?\n",
    "- What is the average eliminations in this player's top 5 games? Top 10?\n",
    "- Is the match where this player placed the best the same as the match with the most eliminations?\n",
    "- Did this player's performance change as they played more games?\n",
    "\n",
    "BONUS:\n",
    "- What match has the greatest sum of Eliminations, Assists, and Revives?"
   ]
  },
  {
   "cell_type": "markdown",
   "metadata": {},
   "source": [
    "# Still a lot of data... can we change that?\n",
    "---\n",
    "Looks fun!  But where do we start?  We still have a lot of data and it's a bit confusing to look at all of it.  I have a feeling we don't need all of the columns to answer the questions above.\n",
    "\n",
    "There are two ways we can approach this.\n",
    "1. We can copy the table **without** the columns we **don't want** into a new table\n",
    "2. We can copy the table **with** the columns we **do want** into a new table\n",
    "\n",
    "Which do you think is easiest?"
   ]
  },
  {
   "cell_type": "code",
   "execution_count": null,
   "metadata": {},
   "outputs": [],
   "source": [
    "# Some code to obtain a new table with only relevant columns\n",
    "# We probably want to look at Match, Solo, Placed, Mac Placement, and Eliminations\n",
    "fort = fortnite.drop(...)\n",
    "fort = fortnite.select(...)\n",
    "fort.show(5)"
   ]
  },
  {
   "cell_type": "markdown",
   "metadata": {},
   "source": [
    "# Finding the average placement\n",
    "---"
   ]
  },
  {
   "cell_type": "code",
   "execution_count": null,
   "metadata": {},
   "outputs": [],
   "source": [
    "# Average Placement\n",
    "..."
   ]
  },
  {
   "cell_type": "code",
   "execution_count": null,
   "metadata": {},
   "outputs": [],
   "source": [
    "# Is this helpful though?\n",
    "# We should create a new column, Rank, that consists of placement / max placement\n",
    "fort = fort.with_column(\n",
    "    ...\n",
    ")"
   ]
  },
  {
   "cell_type": "code",
   "execution_count": null,
   "metadata": {},
   "outputs": [],
   "source": [
    "# Now let's try that again\n",
    "# This time find Average Rank\n",
    "..."
   ]
  },
  {
   "cell_type": "markdown",
   "metadata": {},
   "source": [
    "# How many Eliminations?\n",
    "---\n",
    "\n",
    "Let's find the total number and average number of Eliminations for this player.\n",
    "\n",
    "Does this differ between solo matches and squad matches?"
   ]
  },
  {
   "cell_type": "code",
   "execution_count": null,
   "metadata": {},
   "outputs": [],
   "source": [
    "# Total Elims\n",
    "..."
   ]
  },
  {
   "cell_type": "code",
   "execution_count": null,
   "metadata": {},
   "outputs": [],
   "source": [
    "# Average Elims\n",
    "..."
   ]
  },
  {
   "cell_type": "code",
   "execution_count": null,
   "metadata": {},
   "outputs": [],
   "source": [
    "# Hold on again, is the average useful?  When in a squad, the number of eliminations\n",
    "# doesn't correspond to a elim-death ratio.\n",
    "# Let's just look at solo kills.\n",
    "\n",
    "\n",
    "# The basic structure to find this info could look something like this:\n",
    "# ____(fort.where(_____, are.equal_to(____))____)\n"
   ]
  },
  {
   "cell_type": "code",
   "execution_count": null,
   "metadata": {},
   "outputs": [],
   "source": [
    "# Can we simplify that at all?\n",
    "..."
   ]
  },
  {
   "cell_type": "code",
   "execution_count": null,
   "metadata": {},
   "outputs": [],
   "source": [
    "# Average Elims Solo vs Squad\n",
    "avg_elims_solo = ... # We just did this!\n",
    "avg_elims_squad = ... # One small change\n",
    "print(\"Solo:\", avg_elims_solo, \"| Squad:\", avg_elims_squad)"
   ]
  },
  {
   "cell_type": "markdown",
   "metadata": {},
   "source": [
    "# Less than two Eliminations :(\n",
    "---\n",
    "\n",
    "I wonder the percentage of matches where this player got less than 2 eliminations.  We can use a new \"are\" predicate for this...\n",
    "\n",
    "[Datascience documentation on the \"are\" predicates.](http://data8.org/datascience/predicates.html)"
   ]
  },
  {
   "cell_type": "code",
   "execution_count": null,
   "metadata": {},
   "outputs": [],
   "source": [
    "# What percentage of matches did this player get less than 2 eliminations?\n",
    "..."
   ]
  },
  {
   "cell_type": "markdown",
   "metadata": {},
   "source": [
    "# Those sucked, what are some of the good games?\n",
    "---"
   ]
  },
  {
   "cell_type": "code",
   "execution_count": null,
   "metadata": {},
   "outputs": [],
   "source": [
    "# Best Games (Placement)\n",
    "# You can use the sort method for this\n"
   ]
  },
  {
   "cell_type": "code",
   "execution_count": null,
   "metadata": {},
   "outputs": [],
   "source": [
    "# What about this? (Rank)\n"
   ]
  },
  {
   "cell_type": "code",
   "execution_count": null,
   "metadata": {},
   "outputs": [],
   "source": [
    "# Maybe it looks weird here, but it'll make sense when we look \n",
    "# at the end of the table\n",
    "\n",
    "# How do we look at the other end?\n"
   ]
  },
  {
   "cell_type": "markdown",
   "metadata": {},
   "source": [
    "# Playing around with averages\n",
    "---\n",
    "\n",
    "Let's find out the average number of Eliminations in this player's top 5 ranked games, and compare that to their top 10 ranked games."
   ]
  },
  {
   "cell_type": "code",
   "execution_count": null,
   "metadata": {},
   "outputs": [],
   "source": [
    "# Avg in top 5, top 10\n",
    "top5 = ...\n",
    "top10 = ...\n",
    "\n",
    "print(\"Top 5:\", ...,\n",
    "      \"| Top 10:\", ...)"
   ]
  },
  {
   "cell_type": "markdown",
   "metadata": {},
   "source": [
    "# Is the best game the game with the highest Eliminations?\n",
    "---"
   ]
  },
  {
   "cell_type": "code",
   "execution_count": null,
   "metadata": {},
   "outputs": [],
   "source": [
    "# Are best placement matches the same as highest elimination matches?\n",
    "..."
   ]
  },
  {
   "cell_type": "code",
   "execution_count": null,
   "metadata": {},
   "outputs": [],
   "source": [
    "..."
   ]
  },
  {
   "cell_type": "markdown",
   "metadata": {},
   "source": [
    "# Did this player improve as they played more?\n",
    "---\n",
    "\n",
    "It would be easiest to create a visualization for this..."
   ]
  },
  {
   "cell_type": "code",
   "execution_count": null,
   "metadata": {},
   "outputs": [],
   "source": [
    "# Performance versus match number\n",
    "fort.plot(...)"
   ]
  },
  {
   "cell_type": "markdown",
   "metadata": {},
   "source": [
    "# BONUS ROUND\n",
    "---\n",
    "\n",
    "What match did this played have the most Eliminations, Assists, and Revives combined?\n",
    "\n",
    "Looking at their best match above, are they the same match?"
   ]
  },
  {
   "cell_type": "code",
   "execution_count": null,
   "metadata": {},
   "outputs": [],
   "source": [
    "# BONUS ROUND!\n",
    "# What are the matches with max Eliminations + Assists + Revives?\n",
    "\n",
    "# We're going to need to add some more columns again.\n",
    "# Namely, add Assists and Revives\n",
    "fort_more = fort.with_columns([\n",
    "    ...\n",
    "    ...\n",
    "])\n",
    "\n",
    "fort_more.show(5)"
   ]
  },
  {
   "cell_type": "code",
   "execution_count": null,
   "metadata": {},
   "outputs": [],
   "source": [
    "# we should add a column for the sum of these scores\n",
    "fort_more = ...\n",
    "\n",
    "fort_more.show(5)"
   ]
  },
  {
   "cell_type": "code",
   "execution_count": null,
   "metadata": {},
   "outputs": [],
   "source": [
    "# We should know how to get the row with the highest score, but let's try it a different way\n",
    "..."
   ]
  },
  {
   "cell_type": "code",
   "execution_count": null,
   "metadata": {},
   "outputs": [],
   "source": []
  }
 ],
 "metadata": {
  "kernelspec": {
   "display_name": "Python 3",
   "language": "python",
   "name": "python3"
  },
  "language_info": {
   "codemirror_mode": {
    "name": "ipython",
    "version": 3
   },
   "file_extension": ".py",
   "mimetype": "text/x-python",
   "name": "python",
   "nbconvert_exporter": "python",
   "pygments_lexer": "ipython3",
   "version": "3.6.2"
  }
 },
 "nbformat": 4,
 "nbformat_minor": 2
}
