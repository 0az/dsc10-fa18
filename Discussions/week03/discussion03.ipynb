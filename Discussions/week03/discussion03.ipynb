{
 "cells": [
  {
   "cell_type": "code",
   "execution_count": null,
   "metadata": {},
   "outputs": [],
   "source": [
    "from datascience import *\n",
    "import numpy as np\n",
    "%matplotlib inline"
   ]
  },
  {
   "cell_type": "markdown",
   "metadata": {},
   "source": [
    "# Getting the data\n",
    "---\n",
    "\n",
    "This data was compiled from a number of queries from the NOAA (National Oceanic and Atmospheric Administration) website.\n",
    "\n",
    "NOAA National Centers for Environmental information, Climate at a Glance: Regional Time Series, published October 2018, retrieved on October 18, 2018 from https://www.ncdc.noaa.gov/cag/"
   ]
  },
  {
   "cell_type": "code",
   "execution_count": null,
   "metadata": {},
   "outputs": [],
   "source": [
    "temps = Table.read_table(\"temperatures.csv\")\n",
    "temps"
   ]
  },
  {
   "cell_type": "markdown",
   "metadata": {},
   "source": [
    "It contains a `Year` (2000 to 2018), `Month` (1 to 12), `Region` (a climate region), and `Average Temperature` (the average temperature for that year/month/region in degrees Farenheit)."
   ]
  },
  {
   "cell_type": "markdown",
   "metadata": {},
   "source": [
    "# Let's go over some basics of `where`, `group`, columns on this dataset\n",
    "---\n",
    "\n",
    "By getting familiar with our dataset, it should be easier for us to answer questions we have a bit later."
   ]
  },
  {
   "cell_type": "markdown",
   "metadata": {},
   "source": [
    "Recall the syntax of the following functions:\n",
    "\n",
    "`table.where ( column_label, are.predicate( value ) ) => copy of table with only rows satisfying condition`\n",
    "\n",
    "`table.group ( column_label, method ) => copy of table with only unique rows from column_label and values calculated by the method, default is count`\n",
    "\n",
    "`table.column ( column_label ) => an array of the column specified`\n",
    "\n",
    "`table.with_column ( column_label, array_values ) => copy of table with a new column named column_label and values from the array_values`"
   ]
  },
  {
   "cell_type": "code",
   "execution_count": 5,
   "metadata": {},
   "outputs": [
    {
     "data": {
      "text/plain": [
       "Type help() for interactive help, or help(object) for help about object."
      ]
     },
     "execution_count": 5,
     "metadata": {},
     "output_type": "execute_result"
    }
   ],
   "source": [
    "# If we need any more information, we can always use help\n",
    "help"
   ]
  },
  {
   "cell_type": "code",
   "execution_count": null,
   "metadata": {},
   "outputs": [],
   "source": [
    "# As a helping hand to get started, let's find out what regions we have\n",
    "np.unique(temps.column(\"Region\"))"
   ]
  },
  {
   "cell_type": "code",
   "execution_count": null,
   "metadata": {},
   "outputs": [],
   "source": [
    "region_names = np.unique(temps.column(\"Region\"))\n",
    "for region in region_names:\n",
    "    print(region)"
   ]
  },
  {
   "cell_type": "markdown",
   "metadata": {},
   "source": [
    "# Play around with the dataset using `where`, `group`, etc\n",
    "---"
   ]
  },
  {
   "cell_type": "code",
   "execution_count": null,
   "metadata": {},
   "outputs": [],
   "source": [
    "# Maybe find the data for just one region"
   ]
  },
  {
   "cell_type": "code",
   "execution_count": null,
   "metadata": {},
   "outputs": [],
   "source": [
    "# Maybe find the average temperature for each region"
   ]
  },
  {
   "cell_type": "code",
   "execution_count": null,
   "metadata": {},
   "outputs": [],
   "source": [
    "# Maybe find the average temperature for each year"
   ]
  },
  {
   "cell_type": "code",
   "execution_count": null,
   "metadata": {},
   "outputs": [],
   "source": [
    "# Maybe find the average temperature for each year for just one region"
   ]
  },
  {
   "cell_type": "code",
   "execution_count": null,
   "metadata": {},
   "outputs": [],
   "source": [
    "# Maybe find the average temperature for each month"
   ]
  },
  {
   "cell_type": "code",
   "execution_count": null,
   "metadata": {},
   "outputs": [],
   "source": [
    "# Maybe find the average temperature for any region containing \"North\" versus containing \"South\""
   ]
  },
  {
   "cell_type": "markdown",
   "metadata": {},
   "source": [
    "# Let's look at trends over time\n",
    "---\n",
    "What's a good way to represent this data?\n",
    "\n",
    "How does temperature change over the course of a year?  What about two years?\n",
    "\n",
    "How does temperature change over the course of 18 years?"
   ]
  },
  {
   "cell_type": "code",
   "execution_count": null,
   "metadata": {},
   "outputs": [],
   "source": [
    "\n",
    "\n",
    "\n",
    "\n",
    "\n",
    "\n",
    "\n",
    "\n",
    "\n",
    "\n",
    "\n",
    "\n",
    "\n",
    "\n",
    "\n",
    "\n",
    "\n",
    "\n",
    "\n",
    "\n",
    "\n",
    "\n",
    "\n",
    "\n",
    "# Maybe a line plot :) "
   ]
  },
  {
   "cell_type": "code",
   "execution_count": null,
   "metadata": {},
   "outputs": [],
   "source": [
    "# Plot against month for a given year"
   ]
  },
  {
   "cell_type": "code",
   "execution_count": null,
   "metadata": {},
   "outputs": [],
   "source": [
    "# Plot against month for a range of two years"
   ]
  },
  {
   "cell_type": "code",
   "execution_count": null,
   "metadata": {},
   "outputs": [],
   "source": [
    "\n",
    "\n",
    "\n",
    "\n",
    "\n",
    "\n",
    "\n",
    "\n",
    "\n",
    "\n",
    "\n",
    "\n",
    "\n",
    "\n",
    "\n",
    "\n",
    "\n",
    "\n",
    "\n",
    "\n",
    "\n",
    "# Uh oh!\n",
    "# We need some way to distinguish the months in one year from another year"
   ]
  },
  {
   "cell_type": "code",
   "execution_count": null,
   "metadata": {},
   "outputs": [],
   "source": [
    "\n",
    "\n",
    "\n",
    "\n",
    "\n",
    "\n",
    "\n",
    "\n",
    "\n",
    "\n",
    "\n",
    "\n",
    "\n",
    "\n",
    "\n",
    "\n",
    "\n",
    "\n",
    "\n",
    "# Maybe give apply a shot"
   ]
  },
  {
   "cell_type": "markdown",
   "metadata": {},
   "source": [
    "# Recall the syntax of `apply`\n",
    "---\n",
    "\n",
    "`table.apply ( method, column_name, column_name, ... ) => returns an array of the method applied to the values in the specified columns`"
   ]
  },
  {
   "cell_type": "code",
   "execution_count": null,
   "metadata": {},
   "outputs": [],
   "source": [
    "help(Table.apply)"
   ]
  },
  {
   "cell_type": "markdown",
   "metadata": {},
   "source": [
    "We should look at the [datetime.date documentation](https://docs.python.org/3.6/library/datetime.html#date-objects)."
   ]
  },
  {
   "cell_type": "code",
   "execution_count": null,
   "metadata": {},
   "outputs": [],
   "source": [
    "# Let's write a function to turn a year and month into a datetime that python can understand\n",
    "\n",
    "import datetime\n",
    "\n",
    "def make_date_from_year_month(year, month):\n",
    "    return datetime.date(...)"
   ]
  },
  {
   "cell_type": "code",
   "execution_count": null,
   "metadata": {},
   "outputs": [],
   "source": [
    "# Apply our function, what do we get?\n",
    "temps.apply(...)"
   ]
  },
  {
   "cell_type": "code",
   "execution_count": null,
   "metadata": {},
   "outputs": [],
   "source": [
    "# Okay, what can we do with that?\n",
    "..."
   ]
  },
  {
   "cell_type": "markdown",
   "metadata": {},
   "source": [
    "# Let's finally plot monthly temperatures over multiple years\n",
    "---"
   ]
  },
  {
   "cell_type": "code",
   "execution_count": null,
   "metadata": {
    "scrolled": true
   },
   "outputs": [],
   "source": [
    "start_date = datetime.date(2016, 1, 1)\n",
    "end_date = datetime.date(2018, 1, 1)\n",
    "\n",
    "temps_with_date.where(\n",
    "    \"Date\", ...\n",
    ").plot(...)"
   ]
  },
  {
   "cell_type": "code",
   "execution_count": null,
   "metadata": {},
   "outputs": [],
   "source": [
    "# Let's change the start date to look at the temperature from 2000 to 2018"
   ]
  },
  {
   "cell_type": "markdown",
   "metadata": {},
   "source": [
    "# Alright, what about annual average temperature over time\n",
    "---"
   ]
  },
  {
   "cell_type": "code",
   "execution_count": null,
   "metadata": {},
   "outputs": [],
   "source": [
    "# Plot the annual average temperature versus year\n",
    "..."
   ]
  },
  {
   "cell_type": "markdown",
   "metadata": {},
   "source": [
    "What if I just wanted to look at West Climate Region?"
   ]
  },
  {
   "cell_type": "code",
   "execution_count": null,
   "metadata": {},
   "outputs": [],
   "source": [
    "..."
   ]
  },
  {
   "cell_type": "code",
   "execution_count": null,
   "metadata": {},
   "outputs": [],
   "source": [
    "# Is there anything weird?\n",
    "\n",
    "# Why?"
   ]
  },
  {
   "cell_type": "markdown",
   "metadata": {},
   "source": [
    "# What does the distribution of ___ look like?\n",
    "---"
   ]
  },
  {
   "cell_type": "code",
   "execution_count": null,
   "metadata": {},
   "outputs": [],
   "source": [
    "temps.group(\"Year\", np.mean).hist(3, normed=False, bins=np.arange(50, 57, 0.5))"
   ]
  },
  {
   "cell_type": "code",
   "execution_count": null,
   "metadata": {},
   "outputs": [],
   "source": [
    "# We can change \"Year\" and np.mean to a bunch of different stuff\n",
    "\n",
    "# Make sure that we allow default bins if we don't fully know what we're working with\n",
    "\n",
    "# Let's use normed=False to get counts instead of density--a little easier to understand"
   ]
  },
  {
   "cell_type": "markdown",
   "metadata": {},
   "source": [
    "How many years had an average temperature greater than 54°F, using counts?"
   ]
  },
  {
   "cell_type": "code",
   "execution_count": 7,
   "metadata": {},
   "outputs": [],
   "source": [
    "# How many years had an avg temp of > 54\n"
   ]
  },
  {
   "cell_type": "code",
   "execution_count": null,
   "metadata": {},
   "outputs": [],
   "source": [
    "# Let's try the distribution of annual average temperatures\n",
    "temps.group(\"Year\", np.mean).hist(3, normed=True, bins=np.arange(50, 57, 0.5))"
   ]
  },
  {
   "cell_type": "markdown",
   "metadata": {},
   "source": [
    "How many years had an average temperature greater than 54°F, using density?"
   ]
  },
  {
   "cell_type": "code",
   "execution_count": null,
   "metadata": {},
   "outputs": [],
   "source": [
    "# We need to know how many years we have\n",
    "temps.group(\"Year\", np.mean).num_rows"
   ]
  },
  {
   "cell_type": "code",
   "execution_count": 8,
   "metadata": {},
   "outputs": [],
   "source": [
    "# We have <> years\n",
    "# How many years had an avg temp of > 54\n"
   ]
  },
  {
   "cell_type": "markdown",
   "metadata": {},
   "source": [
    "# We want to compare annual average temperature accross multiple regions\n",
    "---\n",
    "\n",
    "There's an easy way and a hard way to go about this.\n",
    "\n",
    "The way that we're most comfortable with starting is actually a bit more challenging... let's do it anyways"
   ]
  },
  {
   "cell_type": "code",
   "execution_count": null,
   "metadata": {},
   "outputs": [],
   "source": [
    "# I want to compare Northeast to West\n",
    "\n",
    "# What should my logic be to compare Annual Avg Temps for Northeast to those of West?\n",
    "\n",
    "\n",
    "\n",
    "\n",
    "\n",
    "\n",
    "\n",
    "\n",
    "\n",
    "\n",
    "\n",
    "\n",
    "\n",
    "\n",
    "\n",
    "\n",
    "\n",
    "\n",
    "\n",
    "\n",
    "\n",
    "\n",
    "\n",
    "\n",
    "\n",
    "\n",
    "\n",
    "\n",
    "\n",
    "# We've done this before for one region:\n",
    "\n",
    "# Get data for just that region, then group by year"
   ]
  },
  {
   "cell_type": "code",
   "execution_count": null,
   "metadata": {},
   "outputs": [],
   "source": [
    "# Grab data for just northeast\n",
    "northeast_data = ...\n",
    "northeast_data"
   ]
  },
  {
   "cell_type": "code",
   "execution_count": null,
   "metadata": {},
   "outputs": [],
   "source": [
    "# Grab data for just west\n",
    "west_data = ..."
   ]
  },
  {
   "cell_type": "code",
   "execution_count": null,
   "metadata": {},
   "outputs": [],
   "source": [
    "# Group both by year\n",
    "northeast_years = ...\n",
    "west_years = ..."
   ]
  },
  {
   "cell_type": "markdown",
   "metadata": {},
   "source": [
    "But now I have two separate tables.  We've only learned how to plot from one table so far.\n",
    "\n",
    "We can use matplotlib to circumvent that (don't worry, you don't need to know how to do this)"
   ]
  },
  {
   "cell_type": "code",
   "execution_count": null,
   "metadata": {},
   "outputs": [],
   "source": [
    "# Don't worry about this code too much.\n",
    "import matplotlib.pyplot as plt\n",
    "\n",
    "plt.hist(\n",
    "    [northeast_years.column(\"Average Temperature mean\"), west_years.column(\"Average Temperature mean\")],\n",
    "    histtype='stepfilled'\n",
    ")\n",
    "plt.show()"
   ]
  },
  {
   "cell_type": "markdown",
   "metadata": {},
   "source": [
    "Or we can create a new table, add our columns to it, and then plot"
   ]
  },
  {
   "cell_type": "code",
   "execution_count": null,
   "metadata": {},
   "outputs": [],
   "source": [
    "# Create a new table with a column for Northeast and a column for West, and rows for every year\n",
    "northeast_vs_west = ..."
   ]
  },
  {
   "cell_type": "code",
   "execution_count": null,
   "metadata": {},
   "outputs": [],
   "source": [
    "# We can histogram this table normally\n",
    "northeast_vs_west.hist()"
   ]
  },
  {
   "cell_type": "markdown",
   "metadata": {},
   "source": [
    "# There's an easier way\n",
    "---\n",
    "\n",
    "Using `table.pivot` we can essentially perform `.where`, `.group`, and `.column` for every region at once.\n",
    "\n",
    "Let's delve into [the documentation](http://data8.org/datascience/_autosummary/datascience.tables.Table.pivot.html) to find out how to use this method."
   ]
  },
  {
   "cell_type": "code",
   "execution_count": null,
   "metadata": {},
   "outputs": [],
   "source": [
    "# Before we use the method, we should think clearly about what we want to achieve\n",
    "all_year_avgs = temps.pivot(...)\n",
    "all_year_avgs"
   ]
  },
  {
   "cell_type": "code",
   "execution_count": null,
   "metadata": {},
   "outputs": [],
   "source": [
    "# Now let's compare West Climate Region to Northeast Climate Region\n",
    "..."
   ]
  },
  {
   "cell_type": "code",
   "execution_count": null,
   "metadata": {},
   "outputs": [],
   "source": [
    "# We can even compare every region this way\n",
    "..."
   ]
  },
  {
   "cell_type": "markdown",
   "metadata": {},
   "source": [
    "# Let's finish with some knowledge about histograms\n",
    "---\n",
    "\n",
    "We might have some questions about these histograms, and we should figure out the answers!\n",
    "\n",
    "Q. What do histograms measure?\n",
    "\n",
    "Q. Why the histograms for some regions taller than others?\n",
    "\n",
    "Q. What do we know is true for every region's histogram?\n",
    "\n",
    "Q. If we change to density (`normed=False`) then does our previous answer change?\n",
    "\n",
    "Q. How do we calculate the number of occurrences of a certain bin using counts (`normed=False`)?\n",
    "\n",
    "Q. How do we calculate the number of occurrences of a certain bin using density?"
   ]
  }
 ],
 "metadata": {
  "kernelspec": {
   "display_name": "Python 3",
   "language": "python",
   "name": "python3"
  },
  "language_info": {
   "codemirror_mode": {
    "name": "ipython",
    "version": 3
   },
   "file_extension": ".py",
   "mimetype": "text/x-python",
   "name": "python",
   "nbconvert_exporter": "python",
   "pygments_lexer": "ipython3",
   "version": "3.6.2"
  }
 },
 "nbformat": 4,
 "nbformat_minor": 2
}
