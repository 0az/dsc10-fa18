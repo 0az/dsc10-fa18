{
 "cells": [
  {
   "cell_type": "code",
   "execution_count": 1,
   "metadata": {},
   "outputs": [],
   "source": [
    "from datascience import *\n",
    "import numpy as np\n",
    "%matplotlib inline"
   ]
  },
  {
   "cell_type": "markdown",
   "metadata": {},
   "source": [
    "# Getting some data\n",
    "---\n",
    "\n",
    "I found this online as an Excel file.  We have it as a csv named `fortnite-games-data.csv`, but we need to read that to a Table!"
   ]
  },
  {
   "cell_type": "code",
   "execution_count": 2,
   "metadata": {},
   "outputs": [],
   "source": [
    "# Some code to read the csv\n",
    "fortnite = Table.read_table(\"fortnite-games-data.csv\")"
   ]
  },
  {
   "cell_type": "markdown",
   "metadata": {},
   "source": [
    "I'd really like to be able to see what we've got.  I only want to see the first 5 rows though, just to check it out."
   ]
  },
  {
   "cell_type": "code",
   "execution_count": 3,
   "metadata": {},
   "outputs": [
    {
     "data": {
      "text/html": [
       "<table border=\"1\" class=\"dataframe\">\n",
       "    <thead>\n",
       "        <tr>\n",
       "            <th>Match</th> <th>Date</th> <th>Time of Day</th> <th>Solo</th> <th>Placed</th> <th>Eliminations</th> <th>Assists</th> <th>Revives</th> <th>Accuracy</th> <th>Hits</th> <th>Head Shots</th> <th>Distance Traveled</th> <th>Materials Gathered</th> <th>Materials Used</th> <th>Damage Taken</th> <th>Damage to Players</th> <th>Damage to Structures</th>\n",
       "        </tr>\n",
       "    </thead>\n",
       "    <tbody>\n",
       "        <tr>\n",
       "            <td>0    </td> <td>2018-04-10</td> <td>18:00:00   </td> <td>True </td> <td>27    </td> <td>2           </td> <td>0      </td> <td>0      </td> <td>0.23    </td> <td>14  </td> <td>2         </td> <td>271.08           </td> <td>20                </td> <td>20            </td> <td>272         </td> <td>331              </td> <td>621                 </td>\n",
       "        </tr>\n",
       "    </tbody>\n",
       "        <tr>\n",
       "            <td>1    </td> <td>2018-04-10</td> <td>18:00:00   </td> <td>True </td> <td>45    </td> <td>1           </td> <td>2      </td> <td>0      </td> <td>0.3     </td> <td>19  </td> <td>1         </td> <td>396.73           </td> <td>123               </td> <td>30            </td> <td>247         </td> <td>444              </td> <td>998                 </td>\n",
       "        </tr>\n",
       "    </tbody>\n",
       "        <tr>\n",
       "            <td>2    </td> <td>2018-04-10</td> <td>18:00:00   </td> <td>True </td> <td>38    </td> <td>3           </td> <td>0      </td> <td>0      </td> <td>0.3     </td> <td>32  </td> <td>1         </td> <td>607.8            </td> <td>71                </td> <td>60            </td> <td>176         </td> <td>322              </td> <td>1109                </td>\n",
       "        </tr>\n",
       "    </tbody>\n",
       "        <tr>\n",
       "            <td>3    </td> <td>2018-04-10</td> <td>19:00:00   </td> <td>True </td> <td>30    </td> <td>1           </td> <td>3      </td> <td>0      </td> <td>0.18    </td> <td>19  </td> <td>1         </td> <td>714.16           </td> <td>244               </td> <td>10            </td> <td>238         </td> <td>330              </td> <td>4726                </td>\n",
       "        </tr>\n",
       "    </tbody>\n",
       "        <tr>\n",
       "            <td>4    </td> <td>2018-04-10</td> <td>19:00:00   </td> <td>False</td> <td>16    </td> <td>3           </td> <td>1      </td> <td>1      </td> <td>0.58    </td> <td>42  </td> <td>18        </td> <td>1140             </td> <td>584               </td> <td>150           </td> <td>365         </td> <td>668              </td> <td>2070                </td>\n",
       "        </tr>\n",
       "    </tbody>\n",
       "</table>\n",
       "<p>... (82 rows omitted)</p>"
      ],
      "text/plain": [
       "<IPython.core.display.HTML object>"
      ]
     },
     "metadata": {},
     "output_type": "display_data"
    }
   ],
   "source": [
    "# Some code to display just the first 5 rows\n",
    "fortnite.show(5)"
   ]
  },
  {
   "cell_type": "markdown",
   "metadata": {},
   "source": [
    "# That's a lot of data... what does it all mean?\n",
    "---\n",
    "It's generally a good idea to understand what we're working with.\n",
    "\n",
    "Let's briefly describe what each column means.  If we have anyone in the room with \\*ahem\\* some domain knowledge in this field, that could help!"
   ]
  },
  {
   "cell_type": "code",
   "execution_count": null,
   "metadata": {},
   "outputs": [],
   "source": [
    "# Solo is whether they were solo vs with a squad\n",
    "# Placed is how close to winning (#1) they were -- how many people left alive when they died\n",
    "# Max placement is out of 100 for solo, out of 25 for squads"
   ]
  },
  {
   "cell_type": "markdown",
   "metadata": {},
   "source": [
    "# Add a max placement column\n",
    "---\n",
    "\n",
    "In solo matches, placement can be from 1 to 100, but in squad matches it only goes to 25.\n",
    "\n",
    "We can use some array math to add a `Max Placement` column to our table!"
   ]
  },
  {
   "cell_type": "code",
   "execution_count": 4,
   "metadata": {},
   "outputs": [
    {
     "data": {
      "text/plain": [
       "array([4, 1])"
      ]
     },
     "execution_count": 4,
     "metadata": {},
     "output_type": "execute_result"
    }
   ],
   "source": [
    "np.array([4, True])"
   ]
  },
  {
   "cell_type": "code",
   "execution_count": 5,
   "metadata": {},
   "outputs": [
    {
     "data": {
      "text/html": [
       "<table border=\"1\" class=\"dataframe\">\n",
       "    <thead>\n",
       "        <tr>\n",
       "            <th>Match</th> <th>Date</th> <th>Time of Day</th> <th>Solo</th> <th>Placed</th> <th>Eliminations</th> <th>Assists</th> <th>Revives</th> <th>Accuracy</th> <th>Hits</th> <th>Head Shots</th> <th>Distance Traveled</th> <th>Materials Gathered</th> <th>Materials Used</th> <th>Damage Taken</th> <th>Damage to Players</th> <th>Damage to Structures</th> <th>Max Placement</th>\n",
       "        </tr>\n",
       "    </thead>\n",
       "    <tbody>\n",
       "        <tr>\n",
       "            <td>0    </td> <td>2018-04-10</td> <td>18:00:00   </td> <td>True </td> <td>27    </td> <td>2           </td> <td>0      </td> <td>0      </td> <td>0.23    </td> <td>14  </td> <td>2         </td> <td>271.08           </td> <td>20                </td> <td>20            </td> <td>272         </td> <td>331              </td> <td>621                 </td> <td>100          </td>\n",
       "        </tr>\n",
       "    </tbody>\n",
       "        <tr>\n",
       "            <td>1    </td> <td>2018-04-10</td> <td>18:00:00   </td> <td>True </td> <td>45    </td> <td>1           </td> <td>2      </td> <td>0      </td> <td>0.3     </td> <td>19  </td> <td>1         </td> <td>396.73           </td> <td>123               </td> <td>30            </td> <td>247         </td> <td>444              </td> <td>998                 </td> <td>100          </td>\n",
       "        </tr>\n",
       "    </tbody>\n",
       "        <tr>\n",
       "            <td>2    </td> <td>2018-04-10</td> <td>18:00:00   </td> <td>True </td> <td>38    </td> <td>3           </td> <td>0      </td> <td>0      </td> <td>0.3     </td> <td>32  </td> <td>1         </td> <td>607.8            </td> <td>71                </td> <td>60            </td> <td>176         </td> <td>322              </td> <td>1109                </td> <td>100          </td>\n",
       "        </tr>\n",
       "    </tbody>\n",
       "        <tr>\n",
       "            <td>3    </td> <td>2018-04-10</td> <td>19:00:00   </td> <td>True </td> <td>30    </td> <td>1           </td> <td>3      </td> <td>0      </td> <td>0.18    </td> <td>19  </td> <td>1         </td> <td>714.16           </td> <td>244               </td> <td>10            </td> <td>238         </td> <td>330              </td> <td>4726                </td> <td>100          </td>\n",
       "        </tr>\n",
       "    </tbody>\n",
       "        <tr>\n",
       "            <td>4    </td> <td>2018-04-10</td> <td>19:00:00   </td> <td>False</td> <td>16    </td> <td>3           </td> <td>1      </td> <td>1      </td> <td>0.58    </td> <td>42  </td> <td>18        </td> <td>1140             </td> <td>584               </td> <td>150           </td> <td>365         </td> <td>668              </td> <td>2070                </td> <td>25           </td>\n",
       "        </tr>\n",
       "    </tbody>\n",
       "</table>\n",
       "<p>... (82 rows omitted)</p>"
      ],
      "text/plain": [
       "<IPython.core.display.HTML object>"
      ]
     },
     "metadata": {},
     "output_type": "display_data"
    }
   ],
   "source": [
    "# Code to make a max_placement array\n",
    "\n",
    "# True => 100\n",
    "# False => 25\n",
    "solo = fortnite.column(\"Solo\")\n",
    "\n",
    "max_placement = 25 + solo * 75\n",
    "\n",
    "# Code to add this as a column\n",
    "fortnite = fortnite.with_column(\"Max Placement\", max_placement)\n",
    "fortnite.show(5)"
   ]
  },
  {
   "cell_type": "markdown",
   "metadata": {},
   "source": [
    "# Let's answer some questions\n",
    "---\n",
    "\n",
    "- What is this player's average placement?\n",
    "- How many eliminations does this player have in total? Average per match?\n",
    "- How many eliminations did this player get solo versus in a squad? Average per each category?\n",
    "- What percentage of matches did this player get less than 2 eliminations?\n",
    "- What were this player's best games?\n",
    "- What is the average eliminations in this player's top 5 games? Top 10?\n",
    "- Is the match where this player placed the best the same as the match with the most eliminations?\n",
    "- Did this player's performance change as they played more games?\n",
    "\n",
    "BONUS:\n",
    "- What match has the greatest sum of Eliminations, Assists, and Revives?"
   ]
  },
  {
   "cell_type": "markdown",
   "metadata": {},
   "source": [
    "# Still a lot of data... can we change that?\n",
    "---\n",
    "Looks fun!  But where do we start?  We still have a lot of data and it's a bit confusing to look at all of it.  I have a feeling we don't need all of the columns to answer the questions above.\n",
    "\n",
    "There are two ways we can approach this.\n",
    "1. We can copy the table **without** the columns we **don't want** into a new table\n",
    "2. We can copy the table **with** the columns we **do want** into a new table\n",
    "\n",
    "Which do you think is easiest?"
   ]
  },
  {
   "cell_type": "code",
   "execution_count": 6,
   "metadata": {},
   "outputs": [
    {
     "data": {
      "text/html": [
       "<table border=\"1\" class=\"dataframe\">\n",
       "    <thead>\n",
       "        <tr>\n",
       "            <th>Match</th> <th>Solo</th> <th>Placed</th> <th>Max Placement</th> <th>Eliminations</th>\n",
       "        </tr>\n",
       "    </thead>\n",
       "    <tbody>\n",
       "        <tr>\n",
       "            <td>0    </td> <td>True </td> <td>27    </td> <td>100          </td> <td>2           </td>\n",
       "        </tr>\n",
       "    </tbody>\n",
       "        <tr>\n",
       "            <td>1    </td> <td>True </td> <td>45    </td> <td>100          </td> <td>1           </td>\n",
       "        </tr>\n",
       "    </tbody>\n",
       "        <tr>\n",
       "            <td>2    </td> <td>True </td> <td>38    </td> <td>100          </td> <td>3           </td>\n",
       "        </tr>\n",
       "    </tbody>\n",
       "        <tr>\n",
       "            <td>3    </td> <td>True </td> <td>30    </td> <td>100          </td> <td>1           </td>\n",
       "        </tr>\n",
       "    </tbody>\n",
       "        <tr>\n",
       "            <td>4    </td> <td>False</td> <td>16    </td> <td>25           </td> <td>3           </td>\n",
       "        </tr>\n",
       "    </tbody>\n",
       "</table>\n",
       "<p>... (82 rows omitted)</p>"
      ],
      "text/plain": [
       "<IPython.core.display.HTML object>"
      ]
     },
     "metadata": {},
     "output_type": "display_data"
    }
   ],
   "source": [
    "# Some code to obtain a new table with only relevant columns\n",
    "# We probably want to look at Match, Solo, Placed, Max Placement, and Eliminations\n",
    "# fort = fortnite.drop(...)\n",
    "fort = fortnite.select([\"Match\", \"Solo\", \"Placed\", \"Max Placement\", \"Eliminations\"])\n",
    "fort.show(5)"
   ]
  },
  {
   "cell_type": "markdown",
   "metadata": {},
   "source": [
    "# Finding the average placement\n",
    "---"
   ]
  },
  {
   "cell_type": "code",
   "execution_count": 7,
   "metadata": {},
   "outputs": [
    {
     "data": {
      "text/plain": [
       "22.04597701149425"
      ]
     },
     "execution_count": 7,
     "metadata": {},
     "output_type": "execute_result"
    }
   ],
   "source": [
    "# Average Placement\n",
    "sum(fort.column(\"Placed\")) / fort.num_rows"
   ]
  },
  {
   "cell_type": "code",
   "execution_count": 9,
   "metadata": {},
   "outputs": [
    {
     "data": {
      "text/html": [
       "<table border=\"1\" class=\"dataframe\">\n",
       "    <thead>\n",
       "        <tr>\n",
       "            <th>Match</th> <th>Solo</th> <th>Placed</th> <th>Max Placement</th> <th>Eliminations</th> <th>Rank</th>\n",
       "        </tr>\n",
       "    </thead>\n",
       "    <tbody>\n",
       "        <tr>\n",
       "            <td>0    </td> <td>True </td> <td>27    </td> <td>100          </td> <td>2           </td> <td>0.27</td>\n",
       "        </tr>\n",
       "    </tbody>\n",
       "        <tr>\n",
       "            <td>1    </td> <td>True </td> <td>45    </td> <td>100          </td> <td>1           </td> <td>0.45</td>\n",
       "        </tr>\n",
       "    </tbody>\n",
       "        <tr>\n",
       "            <td>2    </td> <td>True </td> <td>38    </td> <td>100          </td> <td>3           </td> <td>0.38</td>\n",
       "        </tr>\n",
       "    </tbody>\n",
       "        <tr>\n",
       "            <td>3    </td> <td>True </td> <td>30    </td> <td>100          </td> <td>1           </td> <td>0.3 </td>\n",
       "        </tr>\n",
       "    </tbody>\n",
       "        <tr>\n",
       "            <td>4    </td> <td>False</td> <td>16    </td> <td>25           </td> <td>3           </td> <td>0.64</td>\n",
       "        </tr>\n",
       "    </tbody>\n",
       "</table>\n",
       "<p>... (82 rows omitted)</p>"
      ],
      "text/plain": [
       "<IPython.core.display.HTML object>"
      ]
     },
     "metadata": {},
     "output_type": "display_data"
    }
   ],
   "source": [
    "# Is this helpful though?\n",
    "# We should create a new column, Rank, that consists of placement / max placement\n",
    "fort = fort.with_column(\n",
    "    \"Rank\", fort.column(\"Placed\") / fort.column(\"Max Placement\")\n",
    ")\n",
    "fort.show(5)"
   ]
  },
  {
   "cell_type": "code",
   "execution_count": 10,
   "metadata": {},
   "outputs": [
    {
     "data": {
      "text/plain": [
       "0.44563218390804593"
      ]
     },
     "execution_count": 10,
     "metadata": {},
     "output_type": "execute_result"
    }
   ],
   "source": [
    "# Now let's try that again\n",
    "# This time find Average Rank\n",
    "np.mean(fort.column(\"Rank\"))"
   ]
  },
  {
   "cell_type": "markdown",
   "metadata": {},
   "source": [
    "# How many Eliminations?\n",
    "---\n",
    "\n",
    "Let's find the total number and average number of Eliminations for this player.\n",
    "\n",
    "Does this differ between solo matches and squad matches?"
   ]
  },
  {
   "cell_type": "code",
   "execution_count": null,
   "metadata": {},
   "outputs": [],
   "source": [
    "# Total Elims\n",
    "..."
   ]
  },
  {
   "cell_type": "code",
   "execution_count": 11,
   "metadata": {},
   "outputs": [
    {
     "data": {
      "text/plain": [
       "2.5172413793103448"
      ]
     },
     "execution_count": 11,
     "metadata": {},
     "output_type": "execute_result"
    }
   ],
   "source": [
    "# Average Elims\n",
    "np.mean(fort.column(\"Eliminations\"))"
   ]
  },
  {
   "cell_type": "code",
   "execution_count": 13,
   "metadata": {},
   "outputs": [
    {
     "data": {
      "text/plain": [
       "2.1136363636363638"
      ]
     },
     "execution_count": 13,
     "metadata": {},
     "output_type": "execute_result"
    }
   ],
   "source": [
    "# Hold on again, is the average useful?  When in a squad, the number of eliminations\n",
    "# doesn't correspond to a elim-death ratio.\n",
    "# Let's just look at solo kills.\n",
    "\n",
    "\n",
    "# The basic structure to find this info could look something like this:\n",
    "# ____(fort.where(_____, are.equal_to(____))____)\n",
    "np.mean(fort.where(\"Solo\", are.equal_to(1)).column(\"Eliminations\"))"
   ]
  },
  {
   "cell_type": "code",
   "execution_count": 15,
   "metadata": {},
   "outputs": [
    {
     "data": {
      "text/plain": [
       "2.1136363636363638"
      ]
     },
     "execution_count": 15,
     "metadata": {},
     "output_type": "execute_result"
    }
   ],
   "source": [
    "# Can we simplify that at all?\n",
    "np.mean(fort.where(\"Solo\", True).column(\"Eliminations\")) # These are all the same\n",
    "np.mean(fort.where(\"Solo\").column(\"Eliminations\"))"
   ]
  },
  {
   "cell_type": "code",
   "execution_count": 16,
   "metadata": {},
   "outputs": [
    {
     "name": "stdout",
     "output_type": "stream",
     "text": [
      "Solo: 2.1136363636363638 | Squad: 2.9302325581395348\n"
     ]
    }
   ],
   "source": [
    "# Average Elims Solo vs Squad\n",
    "avg_elims_solo = np.mean(fort.where(\"Solo\").column(\"Eliminations\")) # We just did this!\n",
    "avg_elims_squad = np.mean(fort.where(\"Solo\", False).column(\"Eliminations\")) # One small change\n",
    "print(\"Solo:\", avg_elims_solo, \"| Squad:\", avg_elims_squad)"
   ]
  },
  {
   "cell_type": "markdown",
   "metadata": {},
   "source": [
    "# Less than two Eliminations :(\n",
    "---\n",
    "\n",
    "I wonder the proportion of matches where this player got less than 2 eliminations.  We can use a new \"are\" predicate for this...\n",
    "\n",
    "[Datascience documentation on the \"are\" predicates.](http://data8.org/datascience/predicates.html)"
   ]
  },
  {
   "cell_type": "code",
   "execution_count": 18,
   "metadata": {},
   "outputs": [
    {
     "data": {
      "text/plain": [
       "0.08045977011494253"
      ]
     },
     "execution_count": 18,
     "metadata": {},
     "output_type": "execute_result"
    }
   ],
   "source": [
    "# What proportion of matches did this player get less than 2 eliminations?\n",
    "fort.where(\"Eliminations\", are.below(1)).num_rows / fort.num_rows"
   ]
  },
  {
   "cell_type": "markdown",
   "metadata": {},
   "source": [
    "# Those sucked, what are some of the good games?\n",
    "---"
   ]
  },
  {
   "cell_type": "code",
   "execution_count": 21,
   "metadata": {},
   "outputs": [
    {
     "data": {
      "text/html": [
       "<table border=\"1\" class=\"dataframe\">\n",
       "    <thead>\n",
       "        <tr>\n",
       "            <th>Match</th> <th>Solo</th> <th>Placed</th> <th>Max Placement</th> <th>Eliminations</th> <th>Rank</th>\n",
       "        </tr>\n",
       "    </thead>\n",
       "    <tbody>\n",
       "        <tr>\n",
       "            <td>20   </td> <td>False</td> <td>1     </td> <td>25           </td> <td>7           </td> <td>0.04</td>\n",
       "        </tr>\n",
       "    </tbody>\n",
       "        <tr>\n",
       "            <td>38   </td> <td>False</td> <td>1     </td> <td>25           </td> <td>6           </td> <td>0.04</td>\n",
       "        </tr>\n",
       "    </tbody>\n",
       "        <tr>\n",
       "            <td>74   </td> <td>True </td> <td>1     </td> <td>100          </td> <td>4           </td> <td>0.01</td>\n",
       "        </tr>\n",
       "    </tbody>\n",
       "        <tr>\n",
       "            <td>30   </td> <td>False</td> <td>2     </td> <td>25           </td> <td>8           </td> <td>0.08</td>\n",
       "        </tr>\n",
       "    </tbody>\n",
       "        <tr>\n",
       "            <td>41   </td> <td>False</td> <td>2     </td> <td>25           </td> <td>6           </td> <td>0.08</td>\n",
       "        </tr>\n",
       "    </tbody>\n",
       "        <tr>\n",
       "            <td>82   </td> <td>True </td> <td>2     </td> <td>100          </td> <td>8           </td> <td>0.02</td>\n",
       "        </tr>\n",
       "    </tbody>\n",
       "        <tr>\n",
       "            <td>15   </td> <td>False</td> <td>4     </td> <td>25           </td> <td>5           </td> <td>0.16</td>\n",
       "        </tr>\n",
       "    </tbody>\n",
       "        <tr>\n",
       "            <td>53   </td> <td>False</td> <td>4     </td> <td>25           </td> <td>5           </td> <td>0.16</td>\n",
       "        </tr>\n",
       "    </tbody>\n",
       "        <tr>\n",
       "            <td>79   </td> <td>False</td> <td>4     </td> <td>25           </td> <td>5           </td> <td>0.16</td>\n",
       "        </tr>\n",
       "    </tbody>\n",
       "        <tr>\n",
       "            <td>16   </td> <td>False</td> <td>5     </td> <td>25           </td> <td>3           </td> <td>0.2 </td>\n",
       "        </tr>\n",
       "    </tbody>\n",
       "        <tr>\n",
       "            <td>52   </td> <td>False</td> <td>5     </td> <td>25           </td> <td>4           </td> <td>0.2 </td>\n",
       "        </tr>\n",
       "    </tbody>\n",
       "        <tr>\n",
       "            <td>69   </td> <td>False</td> <td>5     </td> <td>25           </td> <td>6           </td> <td>0.2 </td>\n",
       "        </tr>\n",
       "    </tbody>\n",
       "        <tr>\n",
       "            <td>42   </td> <td>False</td> <td>6     </td> <td>25           </td> <td>1           </td> <td>0.24</td>\n",
       "        </tr>\n",
       "    </tbody>\n",
       "        <tr>\n",
       "            <td>61   </td> <td>False</td> <td>6     </td> <td>25           </td> <td>2           </td> <td>0.24</td>\n",
       "        </tr>\n",
       "    </tbody>\n",
       "        <tr>\n",
       "            <td>28   </td> <td>True </td> <td>8     </td> <td>100          </td> <td>6           </td> <td>0.08</td>\n",
       "        </tr>\n",
       "    </tbody>\n",
       "        <tr>\n",
       "            <td>36   </td> <td>False</td> <td>10    </td> <td>25           </td> <td>3           </td> <td>0.4 </td>\n",
       "        </tr>\n",
       "    </tbody>\n",
       "        <tr>\n",
       "            <td>46   </td> <td>True </td> <td>11    </td> <td>100          </td> <td>2           </td> <td>0.11</td>\n",
       "        </tr>\n",
       "    </tbody>\n",
       "        <tr>\n",
       "            <td>60   </td> <td>False</td> <td>12    </td> <td>25           </td> <td>3           </td> <td>0.48</td>\n",
       "        </tr>\n",
       "    </tbody>\n",
       "        <tr>\n",
       "            <td>37   </td> <td>True </td> <td>13    </td> <td>100          </td> <td>6           </td> <td>0.13</td>\n",
       "        </tr>\n",
       "    </tbody>\n",
       "        <tr>\n",
       "            <td>68   </td> <td>True </td> <td>13    </td> <td>100          </td> <td>6           </td> <td>0.13</td>\n",
       "        </tr>\n",
       "    </tbody>\n",
       "        <tr>\n",
       "            <td>33   </td> <td>True </td> <td>14    </td> <td>100          </td> <td>1           </td> <td>0.14</td>\n",
       "        </tr>\n",
       "    </tbody>\n",
       "        <tr>\n",
       "            <td>39   </td> <td>False</td> <td>15    </td> <td>25           </td> <td>2           </td> <td>0.6 </td>\n",
       "        </tr>\n",
       "    </tbody>\n",
       "        <tr>\n",
       "            <td>65   </td> <td>False</td> <td>15    </td> <td>25           </td> <td>1           </td> <td>0.6 </td>\n",
       "        </tr>\n",
       "    </tbody>\n",
       "        <tr>\n",
       "            <td>73   </td> <td>False</td> <td>15    </td> <td>25           </td> <td>2           </td> <td>0.6 </td>\n",
       "        </tr>\n",
       "    </tbody>\n",
       "        <tr>\n",
       "            <td>76   </td> <td>False</td> <td>15    </td> <td>25           </td> <td>3           </td> <td>0.6 </td>\n",
       "        </tr>\n",
       "    </tbody>\n",
       "        <tr>\n",
       "            <td>78   </td> <td>False</td> <td>15    </td> <td>25           </td> <td>1           </td> <td>0.6 </td>\n",
       "        </tr>\n",
       "    </tbody>\n",
       "        <tr>\n",
       "            <td>4    </td> <td>False</td> <td>16    </td> <td>25           </td> <td>3           </td> <td>0.64</td>\n",
       "        </tr>\n",
       "    </tbody>\n",
       "        <tr>\n",
       "            <td>40   </td> <td>False</td> <td>16    </td> <td>25           </td> <td>4           </td> <td>0.64</td>\n",
       "        </tr>\n",
       "    </tbody>\n",
       "        <tr>\n",
       "            <td>66   </td> <td>True </td> <td>16    </td> <td>100          </td> <td>1           </td> <td>0.16</td>\n",
       "        </tr>\n",
       "    </tbody>\n",
       "        <tr>\n",
       "            <td>14   </td> <td>False</td> <td>17    </td> <td>25           </td> <td>4           </td> <td>0.68</td>\n",
       "        </tr>\n",
       "    </tbody>\n",
       "        <tr>\n",
       "            <td>63   </td> <td>True </td> <td>17    </td> <td>100          </td> <td>1           </td> <td>0.17</td>\n",
       "        </tr>\n",
       "    </tbody>\n",
       "        <tr>\n",
       "            <td>67   </td> <td>False</td> <td>17    </td> <td>25           </td> <td>2           </td> <td>0.68</td>\n",
       "        </tr>\n",
       "    </tbody>\n",
       "        <tr>\n",
       "            <td>81   </td> <td>False</td> <td>17    </td> <td>25           </td> <td>3           </td> <td>0.68</td>\n",
       "        </tr>\n",
       "    </tbody>\n",
       "        <tr>\n",
       "            <td>23   </td> <td>True </td> <td>18    </td> <td>100          </td> <td>5           </td> <td>0.18</td>\n",
       "        </tr>\n",
       "    </tbody>\n",
       "        <tr>\n",
       "            <td>27   </td> <td>True </td> <td>18    </td> <td>100          </td> <td>1           </td> <td>0.18</td>\n",
       "        </tr>\n",
       "    </tbody>\n",
       "        <tr>\n",
       "            <td>85   </td> <td>False</td> <td>18    </td> <td>25           </td> <td>3           </td> <td>0.72</td>\n",
       "        </tr>\n",
       "    </tbody>\n",
       "        <tr>\n",
       "            <td>29   </td> <td>False</td> <td>19    </td> <td>25           </td> <td>2           </td> <td>0.76</td>\n",
       "        </tr>\n",
       "    </tbody>\n",
       "        <tr>\n",
       "            <td>6    </td> <td>True </td> <td>20    </td> <td>100          </td> <td>3           </td> <td>0.2 </td>\n",
       "        </tr>\n",
       "    </tbody>\n",
       "        <tr>\n",
       "            <td>17   </td> <td>False</td> <td>20    </td> <td>25           </td> <td>1           </td> <td>0.8 </td>\n",
       "        </tr>\n",
       "    </tbody>\n",
       "        <tr>\n",
       "            <td>72   </td> <td>False</td> <td>20    </td> <td>25           </td> <td>0           </td> <td>0.8 </td>\n",
       "        </tr>\n",
       "    </tbody>\n",
       "        <tr>\n",
       "            <td>8    </td> <td>False</td> <td>21    </td> <td>25           </td> <td>4           </td> <td>0.84</td>\n",
       "        </tr>\n",
       "    </tbody>\n",
       "        <tr>\n",
       "            <td>31   </td> <td>True </td> <td>21    </td> <td>100          </td> <td>0           </td> <td>0.21</td>\n",
       "        </tr>\n",
       "    </tbody>\n",
       "        <tr>\n",
       "            <td>44   </td> <td>False</td> <td>21    </td> <td>25           </td> <td>2           </td> <td>0.84</td>\n",
       "        </tr>\n",
       "    </tbody>\n",
       "        <tr>\n",
       "            <td>48   </td> <td>True </td> <td>21    </td> <td>100          </td> <td>3           </td> <td>0.21</td>\n",
       "        </tr>\n",
       "    </tbody>\n",
       "        <tr>\n",
       "            <td>34   </td> <td>False</td> <td>22    </td> <td>25           </td> <td>1           </td> <td>0.88</td>\n",
       "        </tr>\n",
       "    </tbody>\n",
       "        <tr>\n",
       "            <td>35   </td> <td>False</td> <td>22    </td> <td>25           </td> <td>3           </td> <td>0.88</td>\n",
       "        </tr>\n",
       "    </tbody>\n",
       "        <tr>\n",
       "            <td>75   </td> <td>False</td> <td>22    </td> <td>25           </td> <td>3           </td> <td>0.88</td>\n",
       "        </tr>\n",
       "    </tbody>\n",
       "        <tr>\n",
       "            <td>64   </td> <td>False</td> <td>23    </td> <td>25           </td> <td>1           </td> <td>0.92</td>\n",
       "        </tr>\n",
       "    </tbody>\n",
       "        <tr>\n",
       "            <td>9    </td> <td>False</td> <td>24    </td> <td>25           </td> <td>1           </td> <td>0.96</td>\n",
       "        </tr>\n",
       "    </tbody>\n",
       "        <tr>\n",
       "            <td>56   </td> <td>False</td> <td>24    </td> <td>25           </td> <td>2           </td> <td>0.96</td>\n",
       "        </tr>\n",
       "    </tbody>\n",
       "        <tr>\n",
       "            <td>58   </td> <td>False</td> <td>24    </td> <td>25           </td> <td>2           </td> <td>0.96</td>\n",
       "        </tr>\n",
       "    </tbody>\n",
       "        <tr>\n",
       "            <td>59   </td> <td>True </td> <td>24    </td> <td>100          </td> <td>2           </td> <td>0.24</td>\n",
       "        </tr>\n",
       "    </tbody>\n",
       "        <tr>\n",
       "            <td>80   </td> <td>False</td> <td>24    </td> <td>25           </td> <td>1           </td> <td>0.96</td>\n",
       "        </tr>\n",
       "    </tbody>\n",
       "        <tr>\n",
       "            <td>83   </td> <td>False</td> <td>24    </td> <td>25           </td> <td>4           </td> <td>0.96</td>\n",
       "        </tr>\n",
       "    </tbody>\n",
       "        <tr>\n",
       "            <td>45   </td> <td>False</td> <td>25    </td> <td>25           </td> <td>1           </td> <td>1   </td>\n",
       "        </tr>\n",
       "    </tbody>\n",
       "        <tr>\n",
       "            <td>51   </td> <td>False</td> <td>25    </td> <td>25           </td> <td>2           </td> <td>1   </td>\n",
       "        </tr>\n",
       "    </tbody>\n",
       "        <tr>\n",
       "            <td>62   </td> <td>False</td> <td>25    </td> <td>25           </td> <td>2           </td> <td>1   </td>\n",
       "        </tr>\n",
       "    </tbody>\n",
       "        <tr>\n",
       "            <td>71   </td> <td>False</td> <td>25    </td> <td>25           </td> <td>2           </td> <td>1   </td>\n",
       "        </tr>\n",
       "    </tbody>\n",
       "        <tr>\n",
       "            <td>26   </td> <td>True </td> <td>26    </td> <td>100          </td> <td>4           </td> <td>0.26</td>\n",
       "        </tr>\n",
       "    </tbody>\n",
       "        <tr>\n",
       "            <td>57   </td> <td>True </td> <td>26    </td> <td>100          </td> <td>2           </td> <td>0.26</td>\n",
       "        </tr>\n",
       "    </tbody>\n",
       "        <tr>\n",
       "            <td>0    </td> <td>True </td> <td>27    </td> <td>100          </td> <td>2           </td> <td>0.27</td>\n",
       "        </tr>\n",
       "    </tbody>\n",
       "        <tr>\n",
       "            <td>11   </td> <td>True </td> <td>27    </td> <td>100          </td> <td>3           </td> <td>0.27</td>\n",
       "        </tr>\n",
       "    </tbody>\n",
       "        <tr>\n",
       "            <td>13   </td> <td>True </td> <td>27    </td> <td>100          </td> <td>4           </td> <td>0.27</td>\n",
       "        </tr>\n",
       "    </tbody>\n",
       "        <tr>\n",
       "            <td>19   </td> <td>True </td> <td>28    </td> <td>100          </td> <td>1           </td> <td>0.28</td>\n",
       "        </tr>\n",
       "    </tbody>\n",
       "        <tr>\n",
       "            <td>50   </td> <td>True </td> <td>28    </td> <td>100          </td> <td>1           </td> <td>0.28</td>\n",
       "        </tr>\n",
       "    </tbody>\n",
       "        <tr>\n",
       "            <td>7    </td> <td>True </td> <td>29    </td> <td>100          </td> <td>2           </td> <td>0.29</td>\n",
       "        </tr>\n",
       "    </tbody>\n",
       "        <tr>\n",
       "            <td>18   </td> <td>True </td> <td>29    </td> <td>100          </td> <td>3           </td> <td>0.29</td>\n",
       "        </tr>\n",
       "    </tbody>\n",
       "        <tr>\n",
       "            <td>54   </td> <td>True </td> <td>29    </td> <td>100          </td> <td>1           </td> <td>0.29</td>\n",
       "        </tr>\n",
       "    </tbody>\n",
       "        <tr>\n",
       "            <td>3    </td> <td>True </td> <td>30    </td> <td>100          </td> <td>1           </td> <td>0.3 </td>\n",
       "        </tr>\n",
       "    </tbody>\n",
       "        <tr>\n",
       "            <td>5    </td> <td>True </td> <td>30    </td> <td>100          </td> <td>0           </td> <td>0.3 </td>\n",
       "        </tr>\n",
       "    </tbody>\n",
       "        <tr>\n",
       "            <td>84   </td> <td>True </td> <td>30    </td> <td>100          </td> <td>1           </td> <td>0.3 </td>\n",
       "        </tr>\n",
       "    </tbody>\n",
       "        <tr>\n",
       "            <td>43   </td> <td>True </td> <td>31    </td> <td>100          </td> <td>3           </td> <td>0.31</td>\n",
       "        </tr>\n",
       "    </tbody>\n",
       "        <tr>\n",
       "            <td>49   </td> <td>True </td> <td>32    </td> <td>100          </td> <td>0           </td> <td>0.32</td>\n",
       "        </tr>\n",
       "    </tbody>\n",
       "        <tr>\n",
       "            <td>77   </td> <td>True </td> <td>34    </td> <td>100          </td> <td>2           </td> <td>0.34</td>\n",
       "        </tr>\n",
       "    </tbody>\n",
       "        <tr>\n",
       "            <td>10   </td> <td>True </td> <td>35    </td> <td>100          </td> <td>1           </td> <td>0.35</td>\n",
       "        </tr>\n",
       "    </tbody>\n",
       "        <tr>\n",
       "            <td>12   </td> <td>True </td> <td>36    </td> <td>100          </td> <td>1           </td> <td>0.36</td>\n",
       "        </tr>\n",
       "    </tbody>\n",
       "        <tr>\n",
       "            <td>2    </td> <td>True </td> <td>38    </td> <td>100          </td> <td>3           </td> <td>0.38</td>\n",
       "        </tr>\n",
       "    </tbody>\n",
       "        <tr>\n",
       "            <td>25   </td> <td>True </td> <td>39    </td> <td>100          </td> <td>1           </td> <td>0.39</td>\n",
       "        </tr>\n",
       "    </tbody>\n",
       "        <tr>\n",
       "            <td>86   </td> <td>True </td> <td>39    </td> <td>100          </td> <td>1           </td> <td>0.39</td>\n",
       "        </tr>\n",
       "    </tbody>\n",
       "        <tr>\n",
       "            <td>70   </td> <td>True </td> <td>41    </td> <td>100          </td> <td>0           </td> <td>0.41</td>\n",
       "        </tr>\n",
       "    </tbody>\n",
       "        <tr>\n",
       "            <td>1    </td> <td>True </td> <td>45    </td> <td>100          </td> <td>1           </td> <td>0.45</td>\n",
       "        </tr>\n",
       "    </tbody>\n",
       "        <tr>\n",
       "            <td>47   </td> <td>True </td> <td>46    </td> <td>100          </td> <td>1           </td> <td>0.46</td>\n",
       "        </tr>\n",
       "    </tbody>\n",
       "        <tr>\n",
       "            <td>32   </td> <td>True </td> <td>48    </td> <td>100          </td> <td>2           </td> <td>0.48</td>\n",
       "        </tr>\n",
       "    </tbody>\n",
       "        <tr>\n",
       "            <td>55   </td> <td>True </td> <td>48    </td> <td>100          </td> <td>0           </td> <td>0.48</td>\n",
       "        </tr>\n",
       "    </tbody>\n",
       "        <tr>\n",
       "            <td>21   </td> <td>True </td> <td>49    </td> <td>100          </td> <td>2           </td> <td>0.49</td>\n",
       "        </tr>\n",
       "    </tbody>\n",
       "        <tr>\n",
       "            <td>24   </td> <td>True </td> <td>55    </td> <td>100          </td> <td>1           </td> <td>0.55</td>\n",
       "        </tr>\n",
       "    </tbody>\n",
       "        <tr>\n",
       "            <td>22   </td> <td>True </td> <td>66    </td> <td>100          </td> <td>0           </td> <td>0.66</td>\n",
       "        </tr>\n",
       "    </tbody>\n",
       "</table>"
      ],
      "text/plain": [
       "<IPython.core.display.HTML object>"
      ]
     },
     "metadata": {},
     "output_type": "display_data"
    }
   ],
   "source": [
    "# Best Games (Placed)\n",
    "# You can use the sort method for this\n",
    "fort.sort(\"Placed\").show()"
   ]
  },
  {
   "cell_type": "code",
   "execution_count": 22,
   "metadata": {},
   "outputs": [
    {
     "data": {
      "text/html": [
       "<table border=\"1\" class=\"dataframe\">\n",
       "    <thead>\n",
       "        <tr>\n",
       "            <th>Match</th> <th>Solo</th> <th>Placed</th> <th>Max Placement</th> <th>Eliminations</th> <th>Rank</th>\n",
       "        </tr>\n",
       "    </thead>\n",
       "    <tbody>\n",
       "        <tr>\n",
       "            <td>74   </td> <td>True </td> <td>1     </td> <td>100          </td> <td>4           </td> <td>0.01</td>\n",
       "        </tr>\n",
       "    </tbody>\n",
       "        <tr>\n",
       "            <td>82   </td> <td>True </td> <td>2     </td> <td>100          </td> <td>8           </td> <td>0.02</td>\n",
       "        </tr>\n",
       "    </tbody>\n",
       "        <tr>\n",
       "            <td>20   </td> <td>False</td> <td>1     </td> <td>25           </td> <td>7           </td> <td>0.04</td>\n",
       "        </tr>\n",
       "    </tbody>\n",
       "        <tr>\n",
       "            <td>38   </td> <td>False</td> <td>1     </td> <td>25           </td> <td>6           </td> <td>0.04</td>\n",
       "        </tr>\n",
       "    </tbody>\n",
       "        <tr>\n",
       "            <td>28   </td> <td>True </td> <td>8     </td> <td>100          </td> <td>6           </td> <td>0.08</td>\n",
       "        </tr>\n",
       "    </tbody>\n",
       "        <tr>\n",
       "            <td>30   </td> <td>False</td> <td>2     </td> <td>25           </td> <td>8           </td> <td>0.08</td>\n",
       "        </tr>\n",
       "    </tbody>\n",
       "        <tr>\n",
       "            <td>41   </td> <td>False</td> <td>2     </td> <td>25           </td> <td>6           </td> <td>0.08</td>\n",
       "        </tr>\n",
       "    </tbody>\n",
       "        <tr>\n",
       "            <td>46   </td> <td>True </td> <td>11    </td> <td>100          </td> <td>2           </td> <td>0.11</td>\n",
       "        </tr>\n",
       "    </tbody>\n",
       "        <tr>\n",
       "            <td>37   </td> <td>True </td> <td>13    </td> <td>100          </td> <td>6           </td> <td>0.13</td>\n",
       "        </tr>\n",
       "    </tbody>\n",
       "        <tr>\n",
       "            <td>68   </td> <td>True </td> <td>13    </td> <td>100          </td> <td>6           </td> <td>0.13</td>\n",
       "        </tr>\n",
       "    </tbody>\n",
       "</table>\n",
       "<p>... (77 rows omitted)</p>"
      ],
      "text/plain": [
       "Match | Solo  | Placed | Max Placement | Eliminations | Rank\n",
       "74    | True  | 1      | 100           | 4            | 0.01\n",
       "82    | True  | 2      | 100           | 8            | 0.02\n",
       "20    | False | 1      | 25            | 7            | 0.04\n",
       "38    | False | 1      | 25            | 6            | 0.04\n",
       "28    | True  | 8      | 100           | 6            | 0.08\n",
       "30    | False | 2      | 25            | 8            | 0.08\n",
       "41    | False | 2      | 25            | 6            | 0.08\n",
       "46    | True  | 11     | 100           | 2            | 0.11\n",
       "37    | True  | 13     | 100           | 6            | 0.13\n",
       "68    | True  | 13     | 100           | 6            | 0.13\n",
       "... (77 rows omitted)"
      ]
     },
     "execution_count": 22,
     "metadata": {},
     "output_type": "execute_result"
    }
   ],
   "source": [
    "# What about this? (Rank)\n",
    "fort.sort(\"Rank\")"
   ]
  },
  {
   "cell_type": "code",
   "execution_count": 23,
   "metadata": {},
   "outputs": [
    {
     "data": {
      "text/html": [
       "<table border=\"1\" class=\"dataframe\">\n",
       "    <thead>\n",
       "        <tr>\n",
       "            <th>Match</th> <th>Solo</th> <th>Placed</th> <th>Max Placement</th> <th>Eliminations</th> <th>Rank</th>\n",
       "        </tr>\n",
       "    </thead>\n",
       "    <tbody>\n",
       "        <tr>\n",
       "            <td>71   </td> <td>False</td> <td>25    </td> <td>25           </td> <td>2           </td> <td>1   </td>\n",
       "        </tr>\n",
       "    </tbody>\n",
       "        <tr>\n",
       "            <td>62   </td> <td>False</td> <td>25    </td> <td>25           </td> <td>2           </td> <td>1   </td>\n",
       "        </tr>\n",
       "    </tbody>\n",
       "        <tr>\n",
       "            <td>51   </td> <td>False</td> <td>25    </td> <td>25           </td> <td>2           </td> <td>1   </td>\n",
       "        </tr>\n",
       "    </tbody>\n",
       "        <tr>\n",
       "            <td>45   </td> <td>False</td> <td>25    </td> <td>25           </td> <td>1           </td> <td>1   </td>\n",
       "        </tr>\n",
       "    </tbody>\n",
       "        <tr>\n",
       "            <td>83   </td> <td>False</td> <td>24    </td> <td>25           </td> <td>4           </td> <td>0.96</td>\n",
       "        </tr>\n",
       "    </tbody>\n",
       "        <tr>\n",
       "            <td>80   </td> <td>False</td> <td>24    </td> <td>25           </td> <td>1           </td> <td>0.96</td>\n",
       "        </tr>\n",
       "    </tbody>\n",
       "        <tr>\n",
       "            <td>58   </td> <td>False</td> <td>24    </td> <td>25           </td> <td>2           </td> <td>0.96</td>\n",
       "        </tr>\n",
       "    </tbody>\n",
       "        <tr>\n",
       "            <td>56   </td> <td>False</td> <td>24    </td> <td>25           </td> <td>2           </td> <td>0.96</td>\n",
       "        </tr>\n",
       "    </tbody>\n",
       "        <tr>\n",
       "            <td>9    </td> <td>False</td> <td>24    </td> <td>25           </td> <td>1           </td> <td>0.96</td>\n",
       "        </tr>\n",
       "    </tbody>\n",
       "        <tr>\n",
       "            <td>64   </td> <td>False</td> <td>23    </td> <td>25           </td> <td>1           </td> <td>0.92</td>\n",
       "        </tr>\n",
       "    </tbody>\n",
       "</table>\n",
       "<p>... (77 rows omitted)</p>"
      ],
      "text/plain": [
       "Match | Solo  | Placed | Max Placement | Eliminations | Rank\n",
       "71    | False | 25     | 25            | 2            | 1\n",
       "62    | False | 25     | 25            | 2            | 1\n",
       "51    | False | 25     | 25            | 2            | 1\n",
       "45    | False | 25     | 25            | 1            | 1\n",
       "83    | False | 24     | 25            | 4            | 0.96\n",
       "80    | False | 24     | 25            | 1            | 0.96\n",
       "58    | False | 24     | 25            | 2            | 0.96\n",
       "56    | False | 24     | 25            | 2            | 0.96\n",
       "9     | False | 24     | 25            | 1            | 0.96\n",
       "64    | False | 23     | 25            | 1            | 0.92\n",
       "... (77 rows omitted)"
      ]
     },
     "execution_count": 23,
     "metadata": {},
     "output_type": "execute_result"
    }
   ],
   "source": [
    "# Maybe it looks weird here, but it'll make sense when we look \n",
    "# at the end of the table\n",
    "\n",
    "# How do we look at the other end?\n",
    "fort.sort(\"Rank\", descending=True)"
   ]
  },
  {
   "cell_type": "markdown",
   "metadata": {},
   "source": [
    "# Playing around with averages\n",
    "---\n",
    "\n",
    "Let's find out the average number of Eliminations in this player's top 5 ranked games, and compare that to their top 10 ranked games."
   ]
  },
  {
   "cell_type": "code",
   "execution_count": 25,
   "metadata": {},
   "outputs": [
    {
     "name": "stdout",
     "output_type": "stream",
     "text": [
      "Top 5: 6.2 | Top 10: 3.3\n"
     ]
    }
   ],
   "source": [
    "# Avg in top 5, top 10\n",
    "top5 = fort.sort(\"Rank\").take(np.arange(5))\n",
    "top10 = fort.sort(\"Rank\").take(np.arange(40))\n",
    "\n",
    "print(\"Top 5:\", np.mean(top5.column(\"Eliminations\")),\n",
    "      \"| Top 10:\", np.mean(top10.column(\"Eliminations\")))"
   ]
  },
  {
   "cell_type": "markdown",
   "metadata": {},
   "source": [
    "# Is the best game the game with the highest Eliminations?\n",
    "---"
   ]
  },
  {
   "cell_type": "code",
   "execution_count": 30,
   "metadata": {},
   "outputs": [
    {
     "data": {
      "text/html": [
       "<table border=\"1\" class=\"dataframe\">\n",
       "    <thead>\n",
       "        <tr>\n",
       "            <th>Match</th> <th>Solo</th> <th>Placed</th> <th>Max Placement</th> <th>Eliminations</th> <th>Rank</th>\n",
       "        </tr>\n",
       "    </thead>\n",
       "    <tbody>\n",
       "        <tr>\n",
       "            <td>74   </td> <td>True</td> <td>1     </td> <td>100          </td> <td>4           </td> <td>0.01</td>\n",
       "        </tr>\n",
       "    </tbody>\n",
       "</table>"
      ],
      "text/plain": [
       "Match | Solo | Placed | Max Placement | Eliminations | Rank\n",
       "74    | True | 1      | 100           | 4            | 0.01"
      ]
     },
     "execution_count": 30,
     "metadata": {},
     "output_type": "execute_result"
    }
   ],
   "source": [
    "# Are [best ranked matches] the same as [highest elimination matches]?\n",
    "fort.where(\"Rank\", min(fort.column(\"Rank\")))"
   ]
  },
  {
   "cell_type": "code",
   "execution_count": null,
   "metadata": {},
   "outputs": [],
   "source": [
    "fort.sort(\"Rank\").take(np.arange(5)) # What if this player placed 1/100 six times?"
   ]
  },
  {
   "cell_type": "code",
   "execution_count": 27,
   "metadata": {},
   "outputs": [
    {
     "data": {
      "text/html": [
       "<table border=\"1\" class=\"dataframe\">\n",
       "    <thead>\n",
       "        <tr>\n",
       "            <th>Match</th> <th>Solo</th> <th>Placed</th> <th>Max Placement</th> <th>Eliminations</th> <th>Rank</th>\n",
       "        </tr>\n",
       "    </thead>\n",
       "    <tbody>\n",
       "        <tr>\n",
       "            <td>82   </td> <td>True </td> <td>2     </td> <td>100          </td> <td>8           </td> <td>0.02</td>\n",
       "        </tr>\n",
       "    </tbody>\n",
       "        <tr>\n",
       "            <td>30   </td> <td>False</td> <td>2     </td> <td>25           </td> <td>8           </td> <td>0.08</td>\n",
       "        </tr>\n",
       "    </tbody>\n",
       "        <tr>\n",
       "            <td>20   </td> <td>False</td> <td>1     </td> <td>25           </td> <td>7           </td> <td>0.04</td>\n",
       "        </tr>\n",
       "    </tbody>\n",
       "        <tr>\n",
       "            <td>69   </td> <td>False</td> <td>5     </td> <td>25           </td> <td>6           </td> <td>0.2 </td>\n",
       "        </tr>\n",
       "    </tbody>\n",
       "        <tr>\n",
       "            <td>68   </td> <td>True </td> <td>13    </td> <td>100          </td> <td>6           </td> <td>0.13</td>\n",
       "        </tr>\n",
       "    </tbody>\n",
       "</table>"
      ],
      "text/plain": [
       "Match | Solo  | Placed | Max Placement | Eliminations | Rank\n",
       "82    | True  | 2      | 100           | 8            | 0.02\n",
       "30    | False | 2      | 25            | 8            | 0.08\n",
       "20    | False | 1      | 25            | 7            | 0.04\n",
       "69    | False | 5      | 25            | 6            | 0.2\n",
       "68    | True  | 13     | 100           | 6            | 0.13"
      ]
     },
     "execution_count": 27,
     "metadata": {},
     "output_type": "execute_result"
    }
   ],
   "source": [
    "fort.sort(\"Eliminations\", descending=True).take(np.arange(5))"
   ]
  },
  {
   "cell_type": "markdown",
   "metadata": {},
   "source": [
    "# Did this player improve as they played more?\n",
    "---\n",
    "\n",
    "It would be easiest to create a visualization for this..."
   ]
  },
  {
   "cell_type": "code",
   "execution_count": 31,
   "metadata": {},
   "outputs": [
    {
     "data": {
      "image/png": "[encoded data removed]",
      "text/plain": [
       "<matplotlib.figure.Figure at 0x7fb1ae3ba630>"
      ]
     },
     "metadata": {
      "needs_background": "light"
     },
     "output_type": "display_data"
    }
   ],
   "source": [
    "# Performance versus match number\n",
    "fort.plot(\"Match\", \"Rank\")"
   ]
  },
  {
   "cell_type": "markdown",
   "metadata": {},
   "source": [
    "# BONUS ROUND\n",
    "---\n",
    "\n",
    "What match did this played have the most Eliminations, Assists, and Revives combined?\n",
    "\n",
    "Looking at their best match above, are they the same match?"
   ]
  },
  {
   "cell_type": "code",
   "execution_count": 32,
   "metadata": {},
   "outputs": [
    {
     "data": {
      "text/html": [
       "<table border=\"1\" class=\"dataframe\">\n",
       "    <thead>\n",
       "        <tr>\n",
       "            <th>Match</th> <th>Solo</th> <th>Placed</th> <th>Max Placement</th> <th>Eliminations</th> <th>Rank</th> <th>Assists</th> <th>Revives</th>\n",
       "        </tr>\n",
       "    </thead>\n",
       "    <tbody>\n",
       "        <tr>\n",
       "            <td>0    </td> <td>True </td> <td>27    </td> <td>100          </td> <td>2           </td> <td>0.27</td> <td>0      </td> <td>0      </td>\n",
       "        </tr>\n",
       "    </tbody>\n",
       "        <tr>\n",
       "            <td>1    </td> <td>True </td> <td>45    </td> <td>100          </td> <td>1           </td> <td>0.45</td> <td>2      </td> <td>0      </td>\n",
       "        </tr>\n",
       "    </tbody>\n",
       "        <tr>\n",
       "            <td>2    </td> <td>True </td> <td>38    </td> <td>100          </td> <td>3           </td> <td>0.38</td> <td>0      </td> <td>0      </td>\n",
       "        </tr>\n",
       "    </tbody>\n",
       "        <tr>\n",
       "            <td>3    </td> <td>True </td> <td>30    </td> <td>100          </td> <td>1           </td> <td>0.3 </td> <td>3      </td> <td>0      </td>\n",
       "        </tr>\n",
       "    </tbody>\n",
       "        <tr>\n",
       "            <td>4    </td> <td>False</td> <td>16    </td> <td>25           </td> <td>3           </td> <td>0.64</td> <td>1      </td> <td>1      </td>\n",
       "        </tr>\n",
       "    </tbody>\n",
       "</table>\n",
       "<p>... (82 rows omitted)</p>"
      ],
      "text/plain": [
       "<IPython.core.display.HTML object>"
      ]
     },
     "metadata": {},
     "output_type": "display_data"
    }
   ],
   "source": [
    "# BONUS ROUND!\n",
    "# What are the matches with max Eliminations + Assists + Revives?\n",
    "\n",
    "# We're going to need to add some more columns again.\n",
    "# Namely, add Assists and Revives\n",
    "fort_more = fort.with_columns([\n",
    "    \"Assists\", fortnite.column(\"Assists\"),\n",
    "    \"Revives\", fortnite.column(\"Revives\")\n",
    "])\n",
    "\n",
    "fort_more.show(5)"
   ]
  },
  {
   "cell_type": "code",
   "execution_count": 33,
   "metadata": {},
   "outputs": [
    {
     "data": {
      "text/html": [
       "<table border=\"1\" class=\"dataframe\">\n",
       "    <thead>\n",
       "        <tr>\n",
       "            <th>Match</th> <th>Solo</th> <th>Placed</th> <th>Max Placement</th> <th>Eliminations</th> <th>Rank</th> <th>Assists</th> <th>Revives</th> <th>Score</th>\n",
       "        </tr>\n",
       "    </thead>\n",
       "    <tbody>\n",
       "        <tr>\n",
       "            <td>0    </td> <td>True </td> <td>27    </td> <td>100          </td> <td>2           </td> <td>0.27</td> <td>0      </td> <td>0      </td> <td>2    </td>\n",
       "        </tr>\n",
       "    </tbody>\n",
       "        <tr>\n",
       "            <td>1    </td> <td>True </td> <td>45    </td> <td>100          </td> <td>1           </td> <td>0.45</td> <td>2      </td> <td>0      </td> <td>3    </td>\n",
       "        </tr>\n",
       "    </tbody>\n",
       "        <tr>\n",
       "            <td>2    </td> <td>True </td> <td>38    </td> <td>100          </td> <td>3           </td> <td>0.38</td> <td>0      </td> <td>0      </td> <td>3    </td>\n",
       "        </tr>\n",
       "    </tbody>\n",
       "        <tr>\n",
       "            <td>3    </td> <td>True </td> <td>30    </td> <td>100          </td> <td>1           </td> <td>0.3 </td> <td>3      </td> <td>0      </td> <td>4    </td>\n",
       "        </tr>\n",
       "    </tbody>\n",
       "        <tr>\n",
       "            <td>4    </td> <td>False</td> <td>16    </td> <td>25           </td> <td>3           </td> <td>0.64</td> <td>1      </td> <td>1      </td> <td>5    </td>\n",
       "        </tr>\n",
       "    </tbody>\n",
       "</table>\n",
       "<p>... (82 rows omitted)</p>"
      ],
      "text/plain": [
       "<IPython.core.display.HTML object>"
      ]
     },
     "metadata": {},
     "output_type": "display_data"
    }
   ],
   "source": [
    "# we should add a column for the sum of these scores\n",
    "fort_more = fort_more.with_column(\"Score\",\n",
    "                                 fort_more.column(\"Eliminations\") + fort_more.column(\"Assists\") + fort_more.column(\"Revives\")\n",
    "                                 )\n",
    "fort_more.show(5)"
   ]
  },
  {
   "cell_type": "code",
   "execution_count": 34,
   "metadata": {},
   "outputs": [
    {
     "data": {
      "text/html": [
       "<table border=\"1\" class=\"dataframe\">\n",
       "    <thead>\n",
       "        <tr>\n",
       "            <th>Match</th> <th>Solo</th> <th>Placed</th> <th>Max Placement</th> <th>Eliminations</th> <th>Rank</th> <th>Assists</th> <th>Revives</th> <th>Score</th>\n",
       "        </tr>\n",
       "    </thead>\n",
       "    <tbody>\n",
       "        <tr>\n",
       "            <td>15   </td> <td>False</td> <td>4     </td> <td>25           </td> <td>5           </td> <td>0.16</td> <td>4      </td> <td>4      </td> <td>13   </td>\n",
       "        </tr>\n",
       "    </tbody>\n",
       "</table>"
      ],
      "text/plain": [
       "Match | Solo  | Placed | Max Placement | Eliminations | Rank | Assists | Revives | Score\n",
       "15    | False | 4      | 25            | 5            | 0.16 | 4       | 4       | 13"
      ]
     },
     "execution_count": 34,
     "metadata": {},
     "output_type": "execute_result"
    }
   ],
   "source": [
    "# We should know how to get the row with the highest score, but let's try it a different way\n",
    "fort_more.where(\"Score\", max(fort_more.column(\"Score\")))"
   ]
  },
  {
   "cell_type": "code",
   "execution_count": 37,
   "metadata": {},
   "outputs": [
    {
     "data": {
      "text/html": [
       "<table border=\"1\" class=\"dataframe\">\n",
       "    <thead>\n",
       "        <tr>\n",
       "            <th>Match</th> <th>Solo</th> <th>Placed</th> <th>Max Placement</th> <th>Eliminations</th> <th>Rank</th> <th>Assists</th> <th>Revives</th> <th>Score</th>\n",
       "        </tr>\n",
       "    </thead>\n",
       "    <tbody>\n",
       "        <tr>\n",
       "            <td>74   </td> <td>True </td> <td>1     </td> <td>100          </td> <td>4           </td> <td>0.01</td> <td>5      </td> <td>0      </td> <td>9    </td>\n",
       "        </tr>\n",
       "    </tbody>\n",
       "        <tr>\n",
       "            <td>82   </td> <td>True </td> <td>2     </td> <td>100          </td> <td>8           </td> <td>0.02</td> <td>2      </td> <td>0      </td> <td>10   </td>\n",
       "        </tr>\n",
       "    </tbody>\n",
       "        <tr>\n",
       "            <td>20   </td> <td>False</td> <td>1     </td> <td>25           </td> <td>7           </td> <td>0.04</td> <td>0      </td> <td>0      </td> <td>7    </td>\n",
       "        </tr>\n",
       "    </tbody>\n",
       "        <tr>\n",
       "            <td>38   </td> <td>False</td> <td>1     </td> <td>25           </td> <td>6           </td> <td>0.04</td> <td>3      </td> <td>1      </td> <td>10   </td>\n",
       "        </tr>\n",
       "    </tbody>\n",
       "        <tr>\n",
       "            <td>28   </td> <td>True </td> <td>8     </td> <td>100          </td> <td>6           </td> <td>0.08</td> <td>2      </td> <td>0      </td> <td>8    </td>\n",
       "        </tr>\n",
       "    </tbody>\n",
       "        <tr>\n",
       "            <td>30   </td> <td>False</td> <td>2     </td> <td>25           </td> <td>8           </td> <td>0.08</td> <td>0      </td> <td>1      </td> <td>9    </td>\n",
       "        </tr>\n",
       "    </tbody>\n",
       "        <tr>\n",
       "            <td>41   </td> <td>False</td> <td>2     </td> <td>25           </td> <td>6           </td> <td>0.08</td> <td>2      </td> <td>0      </td> <td>8    </td>\n",
       "        </tr>\n",
       "    </tbody>\n",
       "        <tr>\n",
       "            <td>46   </td> <td>True </td> <td>11    </td> <td>100          </td> <td>2           </td> <td>0.11</td> <td>1      </td> <td>0      </td> <td>3    </td>\n",
       "        </tr>\n",
       "    </tbody>\n",
       "        <tr>\n",
       "            <td>37   </td> <td>True </td> <td>13    </td> <td>100          </td> <td>6           </td> <td>0.13</td> <td>0      </td> <td>0      </td> <td>6    </td>\n",
       "        </tr>\n",
       "    </tbody>\n",
       "        <tr>\n",
       "            <td>68   </td> <td>True </td> <td>13    </td> <td>100          </td> <td>6           </td> <td>0.13</td> <td>2      </td> <td>0      </td> <td>8    </td>\n",
       "        </tr>\n",
       "    </tbody>\n",
       "        <tr>\n",
       "            <td>33   </td> <td>True </td> <td>14    </td> <td>100          </td> <td>1           </td> <td>0.14</td> <td>2      </td> <td>0      </td> <td>3    </td>\n",
       "        </tr>\n",
       "    </tbody>\n",
       "        <tr>\n",
       "            <td>15   </td> <td>False</td> <td>4     </td> <td>25           </td> <td>5           </td> <td>0.16</td> <td>4      </td> <td>4      </td> <td>13   </td>\n",
       "        </tr>\n",
       "    </tbody>\n",
       "        <tr>\n",
       "            <td>53   </td> <td>False</td> <td>4     </td> <td>25           </td> <td>5           </td> <td>0.16</td> <td>3      </td> <td>1      </td> <td>9    </td>\n",
       "        </tr>\n",
       "    </tbody>\n",
       "        <tr>\n",
       "            <td>66   </td> <td>True </td> <td>16    </td> <td>100          </td> <td>1           </td> <td>0.16</td> <td>0      </td> <td>0      </td> <td>1    </td>\n",
       "        </tr>\n",
       "    </tbody>\n",
       "        <tr>\n",
       "            <td>79   </td> <td>False</td> <td>4     </td> <td>25           </td> <td>5           </td> <td>0.16</td> <td>2      </td> <td>2      </td> <td>9    </td>\n",
       "        </tr>\n",
       "    </tbody>\n",
       "        <tr>\n",
       "            <td>63   </td> <td>True </td> <td>17    </td> <td>100          </td> <td>1           </td> <td>0.17</td> <td>2      </td> <td>0      </td> <td>3    </td>\n",
       "        </tr>\n",
       "    </tbody>\n",
       "        <tr>\n",
       "            <td>23   </td> <td>True </td> <td>18    </td> <td>100          </td> <td>5           </td> <td>0.18</td> <td>0      </td> <td>0      </td> <td>5    </td>\n",
       "        </tr>\n",
       "    </tbody>\n",
       "        <tr>\n",
       "            <td>27   </td> <td>True </td> <td>18    </td> <td>100          </td> <td>1           </td> <td>0.18</td> <td>0      </td> <td>0      </td> <td>1    </td>\n",
       "        </tr>\n",
       "    </tbody>\n",
       "        <tr>\n",
       "            <td>6    </td> <td>True </td> <td>20    </td> <td>100          </td> <td>3           </td> <td>0.2 </td> <td>3      </td> <td>0      </td> <td>6    </td>\n",
       "        </tr>\n",
       "    </tbody>\n",
       "        <tr>\n",
       "            <td>16   </td> <td>False</td> <td>5     </td> <td>25           </td> <td>3           </td> <td>0.2 </td> <td>6      </td> <td>1      </td> <td>10   </td>\n",
       "        </tr>\n",
       "    </tbody>\n",
       "</table>\n",
       "<p>... (67 rows omitted)</p>"
      ],
      "text/plain": [
       "<IPython.core.display.HTML object>"
      ]
     },
     "metadata": {},
     "output_type": "display_data"
    }
   ],
   "source": [
    "fort_more.sort(\"Rank\").show(20)"
   ]
  },
  {
   "cell_type": "code",
   "execution_count": null,
   "metadata": {},
   "outputs": [],
   "source": []
  }
 ],
 "metadata": {
  "kernelspec": {
   "display_name": "Python 3",
   "language": "python",
   "name": "python3"
  },
  "language_info": {
   "codemirror_mode": {
    "name": "ipython",
    "version": 3
   },
   "file_extension": ".py",
   "mimetype": "text/x-python",
   "name": "python",
   "nbconvert_exporter": "python",
   "pygments_lexer": "ipython3",
   "version": "3.6.1"
  }
 },
 "nbformat": 4,
 "nbformat_minor": 2
}
